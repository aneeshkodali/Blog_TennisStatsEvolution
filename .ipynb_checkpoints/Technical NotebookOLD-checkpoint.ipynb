{
 "cells": [
  {
   "cell_type": "markdown",
   "metadata": {},
   "source": [
    "# Import Libraries"
   ]
  },
  {
   "cell_type": "code",
   "execution_count": 1,
   "metadata": {
    "ExecuteTime": {
     "end_time": "2020-03-09T23:05:20.926559Z",
     "start_time": "2020-03-09T23:05:16.761621Z"
    }
   },
   "outputs": [],
   "source": [
    "# Data handling libraries\n",
    "import pandas as pd\n",
    "\n",
    "# Visualizations\n",
    "import seaborn as sns\n",
    "import matplotlib.pyplot as plt\n",
    "\n",
    "\n",
    "# SQL\n",
    "import mysql.connector\n",
    "\n",
    "# Py files\n",
    "import obtainData as o\n",
    "import visualizations as v\n",
    "%load_ext autoreload\n",
    "%autoreload 2"
   ]
  },
  {
   "cell_type": "markdown",
   "metadata": {},
   "source": [
    "# Connect to SQL Database"
   ]
  },
  {
   "cell_type": "code",
   "execution_count": 2,
   "metadata": {
    "ExecuteTime": {
     "end_time": "2020-03-09T23:05:21.324418Z",
     "start_time": "2020-03-09T23:05:21.020233Z"
    }
   },
   "outputs": [
    {
     "name": "stdout",
     "output_type": "stream",
     "text": [
      "Connection\n",
      "<mysql.connector.connection_cext.CMySQLConnection object at 0x0000026CC5C3A128>\n",
      "\n"
     ]
    },
    {
     "data": {
      "text/plain": [
       "['matches', 'players', 'points', 'shots', 'tournaments']"
      ]
     },
     "execution_count": 2,
     "metadata": {},
     "output_type": "execute_result"
    }
   ],
   "source": [
    "# Create connection\n",
    "mydb = mysql.connector.connect(\n",
    "    host=\"localhost\"\n",
    "    , user=\"root\"\n",
    "    , passwd=\"passwd\"\n",
    "    , database = 'tennisabstract'\n",
    "    , buffered=True\n",
    "\n",
    ")\n",
    "\n",
    "print(\"Connection\")\n",
    "print(mydb)\n",
    "print('')\n",
    "\n",
    "# create cursor object\n",
    "cursor = mydb.cursor()\n",
    "\n",
    "# Show tables\n",
    "cursor.execute(\"SHOW TABLES\")\n",
    "[x[0] for x in cursor.fetchall()]"
   ]
  },
  {
   "cell_type": "markdown",
   "metadata": {},
   "source": [
    "# Find Match (and Related Data)"
   ]
  },
  {
   "cell_type": "code",
   "execution_count": 3,
   "metadata": {
    "ExecuteTime": {
     "end_time": "2020-03-09T23:05:51.676770Z",
     "start_time": "2020-03-09T23:05:21.432881Z"
    }
   },
   "outputs": [],
   "source": [
    "matchLink = 'http://www.tennisabstract.com/charting/20200124-M-Australian_Open-R32-John_Millman-Roger_Federer.html'\n",
    "# Find all match, points, and shot data for the match\n",
    "match = pd.read_sql(sql=f\"SELECT * FROM tennisabstract.matches WHERE matchLink='{matchLink}'\", con=mydb, parse_dates=['date'])\n",
    "points = pd.read_sql(sql=f\"SELECT * FROM tennisabstract.points WHERE matchLink='{matchLink}'\", con=mydb)\n",
    "shots = pd.read_sql(sql=f\"SELECT * FROM tennisabstract.shots WHERE matchPoint LIKE '%{matchLink}%'\", con=mydb)"
   ]
  },
  {
   "cell_type": "code",
   "execution_count": 4,
   "metadata": {
    "ExecuteTime": {
     "end_time": "2020-03-09T23:05:51.984945Z",
     "start_time": "2020-03-09T23:05:51.852382Z"
    }
   },
   "outputs": [
    {
     "name": "stdout",
     "output_type": "stream",
     "text": [
      "['John Millman', 'Roger Federer']\n",
      "Player: Roger Federer\n",
      "Opponent: John Millman\n",
      "['Roger Federer', 'John Millman']\n"
     ]
    }
   ],
   "source": [
    "# Get list of players\n",
    "playerList = list(match.loc[0, ['player1', 'player2']])\n",
    "print(playerList)\n",
    "# Specify a player (0 or 1)\n",
    "elementPlayer = 1\n",
    "elementOtherPlayer = 1-elementPlayer\n",
    "player = playerList[elementPlayer]\n",
    "print(f\"Player: {player}\")\n",
    "# Specify other player\n",
    "otherPlayer = playerList[elementOtherPlayer]\n",
    "print(f\"Opponent: {otherPlayer}\")\n",
    "\n",
    "# Reorder playerList (if need be) for functions so that player is first\n",
    "playerList = [player, otherPlayer]\n",
    "print(playerList)"
   ]
  },
  {
   "cell_type": "code",
   "execution_count": 5,
   "metadata": {
    "ExecuteTime": {
     "end_time": "2020-03-09T23:05:52.268242Z",
     "start_time": "2020-03-09T23:05:52.154540Z"
    }
   },
   "outputs": [
    {
     "data": {
      "text/html": [
       "<div>\n",
       "<style scoped>\n",
       "    .dataframe tbody tr th:only-of-type {\n",
       "        vertical-align: middle;\n",
       "    }\n",
       "\n",
       "    .dataframe tbody tr th {\n",
       "        vertical-align: top;\n",
       "    }\n",
       "\n",
       "    .dataframe thead th {\n",
       "        text-align: right;\n",
       "    }\n",
       "</style>\n",
       "<table border=\"1\" class=\"dataframe\">\n",
       "  <thead>\n",
       "    <tr style=\"text-align: right;\">\n",
       "      <th></th>\n",
       "      <th>winner</th>\n",
       "      <th>loser</th>\n",
       "      <th>score</th>\n",
       "      <th>numSets</th>\n",
       "    </tr>\n",
       "  </thead>\n",
       "  <tbody>\n",
       "    <tr>\n",
       "      <th>0</th>\n",
       "      <td>Roger Federer</td>\n",
       "      <td>John Millman</td>\n",
       "      <td>4-6 7-6(2) 6-4 4-6 7-6(8)</td>\n",
       "      <td>5</td>\n",
       "    </tr>\n",
       "  </tbody>\n",
       "</table>\n",
       "</div>"
      ],
      "text/plain": [
       "          winner         loser                      score  numSets\n",
       "0  Roger Federer  John Millman  4-6 7-6(2) 6-4 4-6 7-6(8)        5"
      ]
     },
     "execution_count": 5,
     "metadata": {},
     "output_type": "execute_result"
    }
   ],
   "source": [
    "match[['winner', 'loser', 'score', 'numSets']]"
   ]
  },
  {
   "cell_type": "markdown",
   "metadata": {},
   "source": [
    "For this, we'll look at 1 set"
   ]
  },
  {
   "cell_type": "code",
   "execution_count": 6,
   "metadata": {
    "ExecuteTime": {
     "end_time": "2020-03-09T23:05:52.500586Z",
     "start_time": "2020-03-09T23:05:52.408862Z"
    }
   },
   "outputs": [],
   "source": [
    "# Example\n",
    "setNum=5\n",
    "pointsSet = points.loc[points['setInMatch']==setNum]"
   ]
  },
  {
   "cell_type": "markdown",
   "metadata": {},
   "source": [
    "# Level 1:Game/Match Level\n",
    "\n",
    "To start, simply count the number of times a point ended a certain way\n",
    "- ace\n",
    "- service winner\n",
    "- double fault\n",
    "- winner\n",
    "- unforced error\n",
    "- forced error\n",
    "\n",
    "Split it up by set"
   ]
  },
  {
   "cell_type": "code",
   "execution_count": 7,
   "metadata": {
    "ExecuteTime": {
     "end_time": "2020-03-09T23:05:52.819715Z",
     "start_time": "2020-03-09T23:05:52.657147Z"
    }
   },
   "outputs": [
    {
     "data": {
      "text/html": [
       "<div>\n",
       "<style scoped>\n",
       "    .dataframe tbody tr th:only-of-type {\n",
       "        vertical-align: middle;\n",
       "    }\n",
       "\n",
       "    .dataframe tbody tr th {\n",
       "        vertical-align: top;\n",
       "    }\n",
       "\n",
       "    .dataframe thead th {\n",
       "        text-align: right;\n",
       "    }\n",
       "</style>\n",
       "<table border=\"1\" class=\"dataframe\">\n",
       "  <thead>\n",
       "    <tr style=\"text-align: right;\">\n",
       "      <th></th>\n",
       "      <th>Player</th>\n",
       "      <th>Ace</th>\n",
       "      <th>Double Fault</th>\n",
       "      <th>Forced Error</th>\n",
       "      <th>Service Winner</th>\n",
       "      <th>Unforced Error</th>\n",
       "      <th>Winner</th>\n",
       "    </tr>\n",
       "  </thead>\n",
       "  <tbody>\n",
       "    <tr>\n",
       "      <th>0</th>\n",
       "      <td>Roger Federer</td>\n",
       "      <td>5</td>\n",
       "      <td>4</td>\n",
       "      <td>13</td>\n",
       "      <td>0</td>\n",
       "      <td>21</td>\n",
       "      <td>10</td>\n",
       "    </tr>\n",
       "    <tr>\n",
       "      <th>1</th>\n",
       "      <td>John Millman</td>\n",
       "      <td>3</td>\n",
       "      <td>0</td>\n",
       "      <td>23</td>\n",
       "      <td>0</td>\n",
       "      <td>13</td>\n",
       "      <td>8</td>\n",
       "    </tr>\n",
       "  </tbody>\n",
       "</table>\n",
       "</div>"
      ],
      "text/plain": [
       "          Player  Ace  Double Fault  Forced Error  Service Winner  \\\n",
       "0  Roger Federer    5             4            13               0   \n",
       "1   John Millman    3             0            23               0   \n",
       "\n",
       "   Unforced Error  Winner  \n",
       "0              21      10  \n",
       "1              13       8  "
      ]
     },
     "execution_count": 7,
     "metadata": {},
     "output_type": "execute_result"
    }
   ],
   "source": [
    "levelOneDF = o.countPointOutcomes(pointsSet, playerList)\n",
    "levelOneDF"
   ]
  },
  {
   "cell_type": "markdown",
   "metadata": {},
   "source": [
    "### Tornado Chart"
   ]
  },
  {
   "cell_type": "code",
   "execution_count": 8,
   "metadata": {
    "ExecuteTime": {
     "end_time": "2020-03-09T23:05:53.100961Z",
     "start_time": "2020-03-09T23:05:52.988312Z"
    }
   },
   "outputs": [
    {
     "data": {
      "text/html": [
       "<div>\n",
       "<style scoped>\n",
       "    .dataframe tbody tr th:only-of-type {\n",
       "        vertical-align: middle;\n",
       "    }\n",
       "\n",
       "    .dataframe tbody tr th {\n",
       "        vertical-align: top;\n",
       "    }\n",
       "\n",
       "    .dataframe thead th {\n",
       "        text-align: right;\n",
       "    }\n",
       "</style>\n",
       "<table border=\"1\" class=\"dataframe\">\n",
       "  <thead>\n",
       "    <tr style=\"text-align: right;\">\n",
       "      <th></th>\n",
       "      <th>Player</th>\n",
       "      <th>Stat</th>\n",
       "      <th>Points</th>\n",
       "    </tr>\n",
       "  </thead>\n",
       "  <tbody>\n",
       "    <tr>\n",
       "      <th>0</th>\n",
       "      <td>Roger Federer</td>\n",
       "      <td>Ace</td>\n",
       "      <td>5</td>\n",
       "    </tr>\n",
       "    <tr>\n",
       "      <th>1</th>\n",
       "      <td>John Millman</td>\n",
       "      <td>Ace</td>\n",
       "      <td>3</td>\n",
       "    </tr>\n",
       "    <tr>\n",
       "      <th>2</th>\n",
       "      <td>Roger Federer</td>\n",
       "      <td>Double Fault</td>\n",
       "      <td>4</td>\n",
       "    </tr>\n",
       "    <tr>\n",
       "      <th>3</th>\n",
       "      <td>John Millman</td>\n",
       "      <td>Double Fault</td>\n",
       "      <td>0</td>\n",
       "    </tr>\n",
       "    <tr>\n",
       "      <th>4</th>\n",
       "      <td>Roger Federer</td>\n",
       "      <td>Forced Error</td>\n",
       "      <td>13</td>\n",
       "    </tr>\n",
       "    <tr>\n",
       "      <th>5</th>\n",
       "      <td>John Millman</td>\n",
       "      <td>Forced Error</td>\n",
       "      <td>23</td>\n",
       "    </tr>\n",
       "    <tr>\n",
       "      <th>6</th>\n",
       "      <td>Roger Federer</td>\n",
       "      <td>Service Winner</td>\n",
       "      <td>0</td>\n",
       "    </tr>\n",
       "    <tr>\n",
       "      <th>7</th>\n",
       "      <td>John Millman</td>\n",
       "      <td>Service Winner</td>\n",
       "      <td>0</td>\n",
       "    </tr>\n",
       "    <tr>\n",
       "      <th>8</th>\n",
       "      <td>Roger Federer</td>\n",
       "      <td>Unforced Error</td>\n",
       "      <td>21</td>\n",
       "    </tr>\n",
       "    <tr>\n",
       "      <th>9</th>\n",
       "      <td>John Millman</td>\n",
       "      <td>Unforced Error</td>\n",
       "      <td>13</td>\n",
       "    </tr>\n",
       "    <tr>\n",
       "      <th>10</th>\n",
       "      <td>Roger Federer</td>\n",
       "      <td>Winner</td>\n",
       "      <td>10</td>\n",
       "    </tr>\n",
       "    <tr>\n",
       "      <th>11</th>\n",
       "      <td>John Millman</td>\n",
       "      <td>Winner</td>\n",
       "      <td>8</td>\n",
       "    </tr>\n",
       "  </tbody>\n",
       "</table>\n",
       "</div>"
      ],
      "text/plain": [
       "           Player            Stat  Points\n",
       "0   Roger Federer             Ace       5\n",
       "1    John Millman             Ace       3\n",
       "2   Roger Federer    Double Fault       4\n",
       "3    John Millman    Double Fault       0\n",
       "4   Roger Federer    Forced Error      13\n",
       "5    John Millman    Forced Error      23\n",
       "6   Roger Federer  Service Winner       0\n",
       "7    John Millman  Service Winner       0\n",
       "8   Roger Federer  Unforced Error      21\n",
       "9    John Millman  Unforced Error      13\n",
       "10  Roger Federer          Winner      10\n",
       "11   John Millman          Winner       8"
      ]
     },
     "execution_count": 8,
     "metadata": {},
     "output_type": "execute_result"
    }
   ],
   "source": [
    "# Reshape dataframe to long format\n",
    "barGroupCol='Player'\n",
    "barCol='Stat'\n",
    "valueCol='Points'\n",
    "levelOneDFLong = pd.melt(levelOneDF, id_vars=barGroupCol, var_name=barCol, value_name=valueCol)\n",
    "levelOneDFLong"
   ]
  },
  {
   "cell_type": "code",
   "execution_count": 9,
   "metadata": {
    "ExecuteTime": {
     "end_time": "2020-03-09T23:05:53.894874Z",
     "start_time": "2020-03-09T23:05:53.297435Z"
    }
   },
   "outputs": [
    {
     "name": "stderr",
     "output_type": "stream",
     "text": [
      "C:\\Users\\anees\\Google Drive\\_Data Science\\_Blogs\\Tennis Stats Evolution\\visualizations.py:34: SettingWithCopyWarning: \n",
      "A value is trying to be set on a copy of a slice from a DataFrame.\n",
      "Try using .loc[row_indexer,col_indexer] = value instead\n",
      "\n",
      "See the caveats in the documentation: http://pandas.pydata.org/pandas-docs/stable/user_guide/indexing.html#returning-a-view-versus-a-copy\n",
      "  barGroupDF[valueCol]*=-1\n"
     ]
    },
    {
     "data": {
      "image/png": "[encoded data removed]",
      "text/plain": [
       "<Figure size 1152x432 with 1 Axes>"
      ]
     },
     "metadata": {
      "needs_background": "light"
     },
     "output_type": "display_data"
    }
   ],
   "source": [
    "# Assign columns for arguments\n",
    "barGroupCol='Player'\n",
    "barCol='Stat'\n",
    "valueCol='Points'\n",
    "colorList = ['lightblue', 'yellow']\n",
    "\n",
    "\n",
    "# Make plot\n",
    "fig, ax = plt.subplots(figsize=(16,6))\n",
    "v.makeTornadoChart(levelOneDFLong, barGroupCol=barGroupCol, barCol=barCol, valueCol=valueCol, colorList=colorList)\n",
    "\n",
    "# Remove labels, ticks and tick labels\n",
    "ax.set_xlabel('')\n",
    "ax.set(xticklabels=[])\n",
    "ax.tick_params(axis='x', length=0)\n",
    "\n",
    "# Order y axis\n",
    "yAxisOrder = sorted(list(levelOneDF.columns[1:]), reverse=True)\n",
    "ax.set_yticklabels(yAxisOrder)\n",
    "\n",
    "# Make legend\n",
    "plt.legend()\n",
    "\n",
    "# Make title\n",
    "plt.title(f\"Stats Breakdown\", fontsize=16)\n",
    "\n",
    "\n",
    "# Make bar symmetric\n",
    "maxValue = levelOneDFLong[valueCol].max()+2\n",
    "plt.xlim(-1*maxValue, maxValue)\n",
    "\n",
    "plt.show()"
   ]
  },
  {
   "cell_type": "markdown",
   "metadata": {},
   "source": [
    "### Donut Chart\n",
    "\n",
    "Break down how players win point (swap number for double fault, unforced error, forced error)"
   ]
  },
  {
   "cell_type": "code",
   "execution_count": 10,
   "metadata": {
    "ExecuteTime": {
     "end_time": "2020-03-09T23:05:54.193040Z",
     "start_time": "2020-03-09T23:05:54.065381Z"
    }
   },
   "outputs": [
    {
     "name": "stderr",
     "output_type": "stream",
     "text": [
      "C:\\Users\\anees\\Google Drive\\_Data Science\\_Blogs\\Tennis Stats Evolution\\obtainData.py:58: SettingWithCopyWarning: \n",
      "A value is trying to be set on a copy of a slice from a DataFrame.\n",
      "Try using .loc[row_indexer,col_indexer] = value instead\n",
      "\n",
      "See the caveats in the documentation: http://pandas.pydata.org/pandas-docs/stable/user_guide/indexing.html#returning-a-view-versus-a-copy\n",
      "  playerDF[stat] = otherPlayerDF[stat].values\n"
     ]
    },
    {
     "data": {
      "text/html": [
       "<div>\n",
       "<style scoped>\n",
       "    .dataframe tbody tr th:only-of-type {\n",
       "        vertical-align: middle;\n",
       "    }\n",
       "\n",
       "    .dataframe tbody tr th {\n",
       "        vertical-align: top;\n",
       "    }\n",
       "\n",
       "    .dataframe thead th {\n",
       "        text-align: right;\n",
       "    }\n",
       "</style>\n",
       "<table border=\"1\" class=\"dataframe\">\n",
       "  <thead>\n",
       "    <tr style=\"text-align: right;\">\n",
       "      <th></th>\n",
       "      <th>Player</th>\n",
       "      <th>Ace</th>\n",
       "      <th>Double Fault</th>\n",
       "      <th>Forced Error</th>\n",
       "      <th>Service Winner</th>\n",
       "      <th>Unforced Error</th>\n",
       "      <th>Winner</th>\n",
       "    </tr>\n",
       "  </thead>\n",
       "  <tbody>\n",
       "    <tr>\n",
       "      <th>0</th>\n",
       "      <td>Roger Federer</td>\n",
       "      <td>5</td>\n",
       "      <td>0</td>\n",
       "      <td>23</td>\n",
       "      <td>0</td>\n",
       "      <td>13</td>\n",
       "      <td>10</td>\n",
       "    </tr>\n",
       "    <tr>\n",
       "      <th>1</th>\n",
       "      <td>John Millman</td>\n",
       "      <td>3</td>\n",
       "      <td>4</td>\n",
       "      <td>13</td>\n",
       "      <td>0</td>\n",
       "      <td>21</td>\n",
       "      <td>8</td>\n",
       "    </tr>\n",
       "  </tbody>\n",
       "</table>\n",
       "</div>"
      ],
      "text/plain": [
       "          Player  Ace  Double Fault  Forced Error  Service Winner  \\\n",
       "0  Roger Federer    5             0            23               0   \n",
       "1   John Millman    3             4            13               0   \n",
       "\n",
       "   Unforced Error  Winner  \n",
       "0              13      10  \n",
       "1              21       8  "
      ]
     },
     "execution_count": 10,
     "metadata": {},
     "output_type": "execute_result"
    }
   ],
   "source": [
    "pointsWonDF = o.invertStatsDF(levelOneDF)\n",
    "pointsWonDF"
   ]
  },
  {
   "cell_type": "code",
   "execution_count": 11,
   "metadata": {
    "ExecuteTime": {
     "end_time": "2020-03-09T23:05:54.537119Z",
     "start_time": "2020-03-09T23:05:54.403660Z"
    }
   },
   "outputs": [
    {
     "data": {
      "text/html": [
       "<div>\n",
       "<style scoped>\n",
       "    .dataframe tbody tr th:only-of-type {\n",
       "        vertical-align: middle;\n",
       "    }\n",
       "\n",
       "    .dataframe tbody tr th {\n",
       "        vertical-align: top;\n",
       "    }\n",
       "\n",
       "    .dataframe thead th {\n",
       "        text-align: right;\n",
       "    }\n",
       "</style>\n",
       "<table border=\"1\" class=\"dataframe\">\n",
       "  <thead>\n",
       "    <tr style=\"text-align: right;\">\n",
       "      <th></th>\n",
       "      <th>Player</th>\n",
       "      <th>Stat</th>\n",
       "      <th>Points</th>\n",
       "    </tr>\n",
       "  </thead>\n",
       "  <tbody>\n",
       "    <tr>\n",
       "      <th>0</th>\n",
       "      <td>Roger Federer</td>\n",
       "      <td>Ace</td>\n",
       "      <td>5</td>\n",
       "    </tr>\n",
       "    <tr>\n",
       "      <th>1</th>\n",
       "      <td>John Millman</td>\n",
       "      <td>Ace</td>\n",
       "      <td>3</td>\n",
       "    </tr>\n",
       "    <tr>\n",
       "      <th>2</th>\n",
       "      <td>Roger Federer</td>\n",
       "      <td>Double Fault</td>\n",
       "      <td>0</td>\n",
       "    </tr>\n",
       "    <tr>\n",
       "      <th>3</th>\n",
       "      <td>John Millman</td>\n",
       "      <td>Double Fault</td>\n",
       "      <td>4</td>\n",
       "    </tr>\n",
       "    <tr>\n",
       "      <th>4</th>\n",
       "      <td>Roger Federer</td>\n",
       "      <td>Forced Error</td>\n",
       "      <td>23</td>\n",
       "    </tr>\n",
       "    <tr>\n",
       "      <th>5</th>\n",
       "      <td>John Millman</td>\n",
       "      <td>Forced Error</td>\n",
       "      <td>13</td>\n",
       "    </tr>\n",
       "    <tr>\n",
       "      <th>6</th>\n",
       "      <td>Roger Federer</td>\n",
       "      <td>Service Winner</td>\n",
       "      <td>0</td>\n",
       "    </tr>\n",
       "    <tr>\n",
       "      <th>7</th>\n",
       "      <td>John Millman</td>\n",
       "      <td>Service Winner</td>\n",
       "      <td>0</td>\n",
       "    </tr>\n",
       "    <tr>\n",
       "      <th>8</th>\n",
       "      <td>Roger Federer</td>\n",
       "      <td>Unforced Error</td>\n",
       "      <td>13</td>\n",
       "    </tr>\n",
       "    <tr>\n",
       "      <th>9</th>\n",
       "      <td>John Millman</td>\n",
       "      <td>Unforced Error</td>\n",
       "      <td>21</td>\n",
       "    </tr>\n",
       "    <tr>\n",
       "      <th>10</th>\n",
       "      <td>Roger Federer</td>\n",
       "      <td>Winner</td>\n",
       "      <td>10</td>\n",
       "    </tr>\n",
       "    <tr>\n",
       "      <th>11</th>\n",
       "      <td>John Millman</td>\n",
       "      <td>Winner</td>\n",
       "      <td>8</td>\n",
       "    </tr>\n",
       "  </tbody>\n",
       "</table>\n",
       "</div>"
      ],
      "text/plain": [
       "           Player            Stat  Points\n",
       "0   Roger Federer             Ace       5\n",
       "1    John Millman             Ace       3\n",
       "2   Roger Federer    Double Fault       0\n",
       "3    John Millman    Double Fault       4\n",
       "4   Roger Federer    Forced Error      23\n",
       "5    John Millman    Forced Error      13\n",
       "6   Roger Federer  Service Winner       0\n",
       "7    John Millman  Service Winner       0\n",
       "8   Roger Federer  Unforced Error      13\n",
       "9    John Millman  Unforced Error      21\n",
       "10  Roger Federer          Winner      10\n",
       "11   John Millman          Winner       8"
      ]
     },
     "execution_count": 11,
     "metadata": {},
     "output_type": "execute_result"
    }
   ],
   "source": [
    "# Reshape dataframe to long format\n",
    "sliceCol='Stat'\n",
    "valueCol='Points'\n",
    "\n",
    "pointsWonDFLong = pd.melt(pointsWonDF, id_vars='Player', var_name=sliceCol, value_name=valueCol)\n",
    "pointsWonDFLong"
   ]
  },
  {
   "cell_type": "code",
   "execution_count": 12,
   "metadata": {
    "ExecuteTime": {
     "end_time": "2020-03-09T23:05:55.737908Z",
     "start_time": "2020-03-09T23:05:54.738580Z"
    }
   },
   "outputs": [
    {
     "data": {
      "image/png": "[encoded data removed]",
      "text/plain": [
       "<Figure size 1728x576 with 2 Axes>"
      ]
     },
     "metadata": {},
     "output_type": "display_data"
    }
   ],
   "source": [
    "# Assign columns\n",
    "sliceCol='Stat'\n",
    "valueCol='Points'\n",
    "\n",
    "# Make plot (2 subplots)\n",
    "fig, axes = plt.subplots(nrows=1, ncols=2, figsize=(24,8))\n",
    "\n",
    "# Iterate through players\n",
    "for i, p in enumerate(playerList):\n",
    "    \n",
    "    # Filter dataframe for player\n",
    "    playerDF = pointsWonDFLong.loc[pointsWonDFLong['Player']==p]\n",
    "    \n",
    "    v.makeDonutChart(playerDF, sliceCol=sliceCol, valueCol=valueCol, ax=axes[i])\n",
    "    axes[i].set_title(f\"{p}\", fontsize=20)\n",
    "\n",
    "    \n",
    "\n",
    "\n",
    "# Make legend\n",
    "fig.legend(pointsWonDFLong[sliceCol].unique(), title='Stat', loc='center', fontsize=14)\n",
    "\n",
    "# Make title\n",
    "fig.suptitle(\"Points Won Breakdown\", fontsize=24)\n",
    "\n",
    "\n",
    "plt.show()"
   ]
  },
  {
   "cell_type": "code",
   "execution_count": 13,
   "metadata": {
    "ExecuteTime": {
     "end_time": "2020-03-09T23:05:56.083982Z",
     "start_time": "2020-03-09T23:05:55.927401Z"
    }
   },
   "outputs": [
    {
     "name": "stdout",
     "output_type": "stream",
     "text": [
      "Roger Federer, Win: 26.5, Lose: -31.5\n",
      "John Millman, Win: 17.5, Lose: -24.5\n"
     ]
    }
   ],
   "source": [
    "winPointDict = {'Ace': 1, 'Double Fault': 0, 'Forced Error': 0.5, 'Service Winner': 1, 'Unforced Error': 0, 'Winner': 1}\n",
    "losePointDict = {'Ace': 0, 'Double Fault': -1, 'Forced Error': -0.5, 'Service Winner': 0, 'Unforced Error': -1, 'Winner': 0}\n",
    "\n",
    "for p in playerList:\n",
    "    playerDF = pointsWonDF.loc[pointsWonDF['Player']==p]\n",
    "    otherPlayerDF = pointsWonDF.loc[pointsWonDF['Player']!=p]\n",
    "    winSum=0\n",
    "    loseSum=0\n",
    "    for stat in winPointDict.keys():\n",
    "        winSum+=(playerDF[stat].iloc[0]*winPointDict[stat])\n",
    "        loseSum+=(otherPlayerDF[stat].iloc[0]*losePointDict[stat])\n",
    "    print(f\"{p}, Win: {winSum}, Lose: {loseSum}\")"
   ]
  },
  {
   "cell_type": "markdown",
   "metadata": {},
   "source": [
    "# Level 2: Point Level\n",
    "\n",
    "Include\n",
    "- set, game and point score\n",
    "    - gives you side (deuce or ad)\n",
    "- server\n",
    "    - gives you receiver\n",
    "- rally length\n",
    "- result\n",
    "- point winner\n",
    "    - gives you point loser"
   ]
  },
  {
   "cell_type": "code",
   "execution_count": 14,
   "metadata": {
    "ExecuteTime": {
     "end_time": "2020-03-09T23:06:00.484217Z",
     "start_time": "2020-03-09T23:06:00.348580Z"
    }
   },
   "outputs": [
    {
     "data": {
      "text/html": [
       "<div>\n",
       "<style scoped>\n",
       "    .dataframe tbody tr th:only-of-type {\n",
       "        vertical-align: middle;\n",
       "    }\n",
       "\n",
       "    .dataframe tbody tr th {\n",
       "        vertical-align: top;\n",
       "    }\n",
       "\n",
       "    .dataframe thead th {\n",
       "        text-align: right;\n",
       "    }\n",
       "</style>\n",
       "<table border=\"1\" class=\"dataframe\">\n",
       "  <thead>\n",
       "    <tr style=\"text-align: right;\">\n",
       "      <th></th>\n",
       "      <th>setInMatch</th>\n",
       "      <th>gameInSet</th>\n",
       "      <th>setGame</th>\n",
       "      <th>setScore</th>\n",
       "      <th>gameScore</th>\n",
       "      <th>pointScore</th>\n",
       "      <th>pointIndex</th>\n",
       "      <th>server</th>\n",
       "      <th>receiver</th>\n",
       "      <th>rallyLength</th>\n",
       "      <th>result</th>\n",
       "      <th>winner</th>\n",
       "      <th>loser</th>\n",
       "    </tr>\n",
       "  </thead>\n",
       "  <tbody>\n",
       "    <tr>\n",
       "      <th>259</th>\n",
       "      <td>5</td>\n",
       "      <td>1</td>\n",
       "      <td>5-1</td>\n",
       "      <td>2-2</td>\n",
       "      <td>0-0</td>\n",
       "      <td>0-0</td>\n",
       "      <td>260</td>\n",
       "      <td>Roger Federer</td>\n",
       "      <td>John Millman</td>\n",
       "      <td>7</td>\n",
       "      <td>forced error</td>\n",
       "      <td>Roger Federer</td>\n",
       "      <td>John Millman</td>\n",
       "    </tr>\n",
       "    <tr>\n",
       "      <th>260</th>\n",
       "      <td>5</td>\n",
       "      <td>1</td>\n",
       "      <td>5-1</td>\n",
       "      <td>2-2</td>\n",
       "      <td>0-0</td>\n",
       "      <td>15-0</td>\n",
       "      <td>261</td>\n",
       "      <td>Roger Federer</td>\n",
       "      <td>John Millman</td>\n",
       "      <td>3</td>\n",
       "      <td>forced error</td>\n",
       "      <td>Roger Federer</td>\n",
       "      <td>John Millman</td>\n",
       "    </tr>\n",
       "    <tr>\n",
       "      <th>261</th>\n",
       "      <td>5</td>\n",
       "      <td>1</td>\n",
       "      <td>5-1</td>\n",
       "      <td>2-2</td>\n",
       "      <td>0-0</td>\n",
       "      <td>30-0</td>\n",
       "      <td>262</td>\n",
       "      <td>Roger Federer</td>\n",
       "      <td>John Millman</td>\n",
       "      <td>1</td>\n",
       "      <td>forced error</td>\n",
       "      <td>Roger Federer</td>\n",
       "      <td>John Millman</td>\n",
       "    </tr>\n",
       "    <tr>\n",
       "      <th>262</th>\n",
       "      <td>5</td>\n",
       "      <td>1</td>\n",
       "      <td>5-1</td>\n",
       "      <td>2-2</td>\n",
       "      <td>0-0</td>\n",
       "      <td>40-0</td>\n",
       "      <td>263</td>\n",
       "      <td>Roger Federer</td>\n",
       "      <td>John Millman</td>\n",
       "      <td>5</td>\n",
       "      <td>winner</td>\n",
       "      <td>John Millman</td>\n",
       "      <td>Roger Federer</td>\n",
       "    </tr>\n",
       "    <tr>\n",
       "      <th>263</th>\n",
       "      <td>5</td>\n",
       "      <td>1</td>\n",
       "      <td>5-1</td>\n",
       "      <td>2-2</td>\n",
       "      <td>0-0</td>\n",
       "      <td>40-15</td>\n",
       "      <td>264</td>\n",
       "      <td>Roger Federer</td>\n",
       "      <td>John Millman</td>\n",
       "      <td>1</td>\n",
       "      <td>forced error</td>\n",
       "      <td>Roger Federer</td>\n",
       "      <td>John Millman</td>\n",
       "    </tr>\n",
       "  </tbody>\n",
       "</table>\n",
       "</div>"
      ],
      "text/plain": [
       "     setInMatch  gameInSet setGame setScore gameScore pointScore  pointIndex  \\\n",
       "259           5          1     5-1      2-2       0-0        0-0         260   \n",
       "260           5          1     5-1      2-2       0-0       15-0         261   \n",
       "261           5          1     5-1      2-2       0-0       30-0         262   \n",
       "262           5          1     5-1      2-2       0-0       40-0         263   \n",
       "263           5          1     5-1      2-2       0-0      40-15         264   \n",
       "\n",
       "            server      receiver  rallyLength        result         winner  \\\n",
       "259  Roger Federer  John Millman            7  forced error  Roger Federer   \n",
       "260  Roger Federer  John Millman            3  forced error  Roger Federer   \n",
       "261  Roger Federer  John Millman            1  forced error  Roger Federer   \n",
       "262  Roger Federer  John Millman            5        winner   John Millman   \n",
       "263  Roger Federer  John Millman            1  forced error  Roger Federer   \n",
       "\n",
       "             loser  \n",
       "259   John Millman  \n",
       "260   John Millman  \n",
       "261   John Millman  \n",
       "262  Roger Federer  \n",
       "263   John Millman  "
      ]
     },
     "execution_count": 14,
     "metadata": {},
     "output_type": "execute_result"
    }
   ],
   "source": [
    "levelTwoDF = pointsSet.copy()\n",
    "# levelTwoDF['firstServeIn'] = (levelTwoDF['rally'].str.contains('2nd serve')==False)*1\n",
    "\n",
    "levelTwoDF['pointIndex'] = list(levelTwoDF.index+1)\n",
    "\n",
    "levelTwoColumns = ['setInMatch', 'gameInSet', 'setGame', 'setScore', 'gameScore', 'pointScore', 'pointIndex', 'server', 'receiver', 'rallyLength', 'result', 'winner', 'loser']\n",
    "\n",
    "levelTwoDF = levelTwoDF[levelTwoColumns]\n",
    "# Add a column for point in match\n",
    "\n",
    "levelTwoDF.head()"
   ]
  },
  {
   "cell_type": "markdown",
   "metadata": {},
   "source": [
    "Now you can:\n",
    "- break up points into serve, return and rally phase\n",
    "- normalize by point count\n",
    "- look at break point scenarios (and pressure situations like tiebreakers or final sets)\n",
    "- create rally bar chart\n",
    "- create momentum chart\n"
   ]
  },
  {
   "cell_type": "markdown",
   "metadata": {},
   "source": [
    "### Rally Tree (Tornado Chart)"
   ]
  },
  {
   "cell_type": "code",
   "execution_count": 18,
   "metadata": {
    "ExecuteTime": {
     "end_time": "2020-03-09T23:08:48.938120Z",
     "start_time": "2020-03-09T23:08:48.751691Z"
    }
   },
   "outputs": [
    {
     "data": {
      "text/html": [
       "<div>\n",
       "<style scoped>\n",
       "    .dataframe tbody tr th:only-of-type {\n",
       "        vertical-align: middle;\n",
       "    }\n",
       "\n",
       "    .dataframe tbody tr th {\n",
       "        vertical-align: top;\n",
       "    }\n",
       "\n",
       "    .dataframe thead th {\n",
       "        text-align: right;\n",
       "    }\n",
       "</style>\n",
       "<table border=\"1\" class=\"dataframe\">\n",
       "  <thead>\n",
       "    <tr style=\"text-align: right;\">\n",
       "      <th></th>\n",
       "      <th>RallyLength</th>\n",
       "      <th>Result</th>\n",
       "      <th>Points</th>\n",
       "    </tr>\n",
       "  </thead>\n",
       "  <tbody>\n",
       "    <tr>\n",
       "      <th>0</th>\n",
       "      <td>0</td>\n",
       "      <td>Winner</td>\n",
       "      <td>5</td>\n",
       "    </tr>\n",
       "    <tr>\n",
       "      <th>1</th>\n",
       "      <td>0</td>\n",
       "      <td>Loser</td>\n",
       "      <td>7</td>\n",
       "    </tr>\n",
       "    <tr>\n",
       "      <th>2</th>\n",
       "      <td>1</td>\n",
       "      <td>Winner</td>\n",
       "      <td>8</td>\n",
       "    </tr>\n",
       "    <tr>\n",
       "      <th>3</th>\n",
       "      <td>1</td>\n",
       "      <td>Loser</td>\n",
       "      <td>10</td>\n",
       "    </tr>\n",
       "    <tr>\n",
       "      <th>4</th>\n",
       "      <td>2</td>\n",
       "      <td>Winner</td>\n",
       "      <td>10</td>\n",
       "    </tr>\n",
       "    <tr>\n",
       "      <th>5</th>\n",
       "      <td>2</td>\n",
       "      <td>Loser</td>\n",
       "      <td>5</td>\n",
       "    </tr>\n",
       "    <tr>\n",
       "      <th>6</th>\n",
       "      <td>3</td>\n",
       "      <td>Winner</td>\n",
       "      <td>9</td>\n",
       "    </tr>\n",
       "    <tr>\n",
       "      <th>7</th>\n",
       "      <td>3</td>\n",
       "      <td>Loser</td>\n",
       "      <td>9</td>\n",
       "    </tr>\n",
       "    <tr>\n",
       "      <th>8</th>\n",
       "      <td>4</td>\n",
       "      <td>Winner</td>\n",
       "      <td>4</td>\n",
       "    </tr>\n",
       "    <tr>\n",
       "      <th>9</th>\n",
       "      <td>4</td>\n",
       "      <td>Loser</td>\n",
       "      <td>1</td>\n",
       "    </tr>\n",
       "    <tr>\n",
       "      <th>10</th>\n",
       "      <td>5</td>\n",
       "      <td>Winner</td>\n",
       "      <td>2</td>\n",
       "    </tr>\n",
       "    <tr>\n",
       "      <th>11</th>\n",
       "      <td>5</td>\n",
       "      <td>Loser</td>\n",
       "      <td>3</td>\n",
       "    </tr>\n",
       "    <tr>\n",
       "      <th>12</th>\n",
       "      <td>6</td>\n",
       "      <td>Winner</td>\n",
       "      <td>3</td>\n",
       "    </tr>\n",
       "    <tr>\n",
       "      <th>13</th>\n",
       "      <td>6</td>\n",
       "      <td>Loser</td>\n",
       "      <td>2</td>\n",
       "    </tr>\n",
       "    <tr>\n",
       "      <th>14</th>\n",
       "      <td>7</td>\n",
       "      <td>Winner</td>\n",
       "      <td>2</td>\n",
       "    </tr>\n",
       "    <tr>\n",
       "      <th>15</th>\n",
       "      <td>7</td>\n",
       "      <td>Loser</td>\n",
       "      <td>3</td>\n",
       "    </tr>\n",
       "    <tr>\n",
       "      <th>16</th>\n",
       "      <td>8</td>\n",
       "      <td>Winner</td>\n",
       "      <td>3</td>\n",
       "    </tr>\n",
       "    <tr>\n",
       "      <th>17</th>\n",
       "      <td>8</td>\n",
       "      <td>Loser</td>\n",
       "      <td>0</td>\n",
       "    </tr>\n",
       "    <tr>\n",
       "      <th>18</th>\n",
       "      <td>9</td>\n",
       "      <td>Winner</td>\n",
       "      <td>2</td>\n",
       "    </tr>\n",
       "    <tr>\n",
       "      <th>19</th>\n",
       "      <td>9</td>\n",
       "      <td>Loser</td>\n",
       "      <td>3</td>\n",
       "    </tr>\n",
       "    <tr>\n",
       "      <th>20</th>\n",
       "      <td>11</td>\n",
       "      <td>Winner</td>\n",
       "      <td>0</td>\n",
       "    </tr>\n",
       "    <tr>\n",
       "      <th>21</th>\n",
       "      <td>11</td>\n",
       "      <td>Loser</td>\n",
       "      <td>3</td>\n",
       "    </tr>\n",
       "    <tr>\n",
       "      <th>22</th>\n",
       "      <td>12</td>\n",
       "      <td>Winner</td>\n",
       "      <td>2</td>\n",
       "    </tr>\n",
       "    <tr>\n",
       "      <th>23</th>\n",
       "      <td>12</td>\n",
       "      <td>Loser</td>\n",
       "      <td>2</td>\n",
       "    </tr>\n",
       "    <tr>\n",
       "      <th>24</th>\n",
       "      <td>17</td>\n",
       "      <td>Winner</td>\n",
       "      <td>1</td>\n",
       "    </tr>\n",
       "    <tr>\n",
       "      <th>25</th>\n",
       "      <td>17</td>\n",
       "      <td>Loser</td>\n",
       "      <td>1</td>\n",
       "    </tr>\n",
       "  </tbody>\n",
       "</table>\n",
       "</div>"
      ],
      "text/plain": [
       "    RallyLength  Result  Points\n",
       "0             0  Winner       5\n",
       "1             0   Loser       7\n",
       "2             1  Winner       8\n",
       "3             1   Loser      10\n",
       "4             2  Winner      10\n",
       "5             2   Loser       5\n",
       "6             3  Winner       9\n",
       "7             3   Loser       9\n",
       "8             4  Winner       4\n",
       "9             4   Loser       1\n",
       "10            5  Winner       2\n",
       "11            5   Loser       3\n",
       "12            6  Winner       3\n",
       "13            6   Loser       2\n",
       "14            7  Winner       2\n",
       "15            7   Loser       3\n",
       "16            8  Winner       3\n",
       "17            8   Loser       0\n",
       "18            9  Winner       2\n",
       "19            9   Loser       3\n",
       "20           11  Winner       0\n",
       "21           11   Loser       3\n",
       "22           12  Winner       2\n",
       "23           12   Loser       2\n",
       "24           17  Winner       1\n",
       "25           17   Loser       1"
      ]
     },
     "execution_count": 18,
     "metadata": {},
     "output_type": "execute_result"
    }
   ],
   "source": [
    "rallyTreeDF = o.countPointsByRallyLengthAndResult(levelTwoDF, player)\n",
    "rallyTreeDF"
   ]
  },
  {
   "cell_type": "code",
   "execution_count": 19,
   "metadata": {
    "ExecuteTime": {
     "end_time": "2020-03-09T23:09:36.792529Z",
     "start_time": "2020-03-09T23:09:35.884906Z"
    }
   },
   "outputs": [
    {
     "data": {
      "image/png": "[encoded data removed]",
      "text/plain": [
       "<Figure size 1152x648 with 2 Axes>"
      ]
     },
     "metadata": {
      "needs_background": "light"
     },
     "output_type": "display_data"
    }
   ],
   "source": [
    "# Assign columns\n",
    "barGroupCol='Result'\n",
    "barCol='RallyLength'\n",
    "valueCol='Points'\n",
    "colorList=['lightgreen', 'red']\n",
    "phaseList = ['server', 'receiver']\n",
    "\n",
    "# player or otherPlayer\n",
    "playerSelected = player\n",
    "\n",
    "# Initialize plot\n",
    "fig, axes = plt.subplots(nrows=1, ncols=2, figsize=(16,9))\n",
    "\n",
    "# Sort y axis\n",
    "yAxisOrder = sorted(levelTwoDF['rallyLength'].unique(), reverse=True)\n",
    "\n",
    "# Iterate through phases\n",
    "for p, phase in enumerate(phaseList):\n",
    "    \n",
    "    # Create dataframe\n",
    "    phaseDF = o.countPointsByRallyLengthAndResult(levelTwoDF, playerSelected, phase)\n",
    "    # Make rally length string\n",
    "    phaseDF[barCol] = phaseDF[barCol].astype(str)\n",
    "    \n",
    "    # Make plot\n",
    "    v.makeTornadoChart(phaseDF, barGroupCol=barGroupCol, barCol=barCol, valueCol=valueCol, colorList=colorList, ax=axes[p])\n",
    "    \n",
    "    # Remove labels, ticks and tick labels\n",
    "    axes[p].set_xlabel('')\n",
    "    axes[p].set(xticklabels=[])\n",
    "    axes[p].tick_params(axis='x', length=0)\n",
    "\n",
    "    # Sort y axis\n",
    "    axes[p].set_yticklabels(yAxisOrder)\n",
    "    \n",
    "    # Make title\n",
    "    axes[p].set_title(f\"When {phase.title()}\", fontsize=14)\n",
    "    \n",
    "    # Make axis symmetric\n",
    "    maxValue = phaseDF[valueCol].max()+2\n",
    "    axes[p].set_xlim(-1*maxValue, maxValue)\n",
    "\n",
    "# Make legend\n",
    "fig.legend(phaseDF[barGroupCol].unique())\n",
    "\n",
    "# Make title\n",
    "fig.suptitle(f\"Rally Length Breakdown for {playerSelected}\", fontsize=20)\n",
    "\n",
    "plt.show()"
   ]
  },
  {
   "cell_type": "markdown",
   "metadata": {},
   "source": [
    "### Game Score Tree"
   ]
  },
  {
   "cell_type": "code",
   "execution_count": 21,
   "metadata": {
    "ExecuteTime": {
     "end_time": "2020-03-08T21:10:39.043497Z",
     "start_time": "2020-03-08T21:10:38.918798Z"
    }
   },
   "outputs": [],
   "source": [
    "# import numpy as np\n",
    "# import matplotlib.pyplot as plt\n",
    "# from matplotlib.sankey import Sankey\n",
    " \n",
    "# # basic sankey chart\n",
    "# flows = [0.25, 0.15, 0.60, -0.20, -0.15, -0.05, -0.50, -0.10]\n",
    "# labels = ['', '', '', 'First', 'Second', 'Third', 'Fourth', 'Fifth']\n",
    "# orientations=[-1, 1, 0, 1, 1, 1, 0,-1]\n",
    "# Sankey(flows=flows, labels=labels, orientations=orientations).finish()\n",
    "# plt.title(\"Sankey diagram with default settings\")\n"
   ]
  },
  {
   "cell_type": "code",
   "execution_count": 22,
   "metadata": {
    "ExecuteTime": {
     "end_time": "2020-03-08T21:10:39.744587Z",
     "start_time": "2020-03-08T21:10:39.663806Z"
    }
   },
   "outputs": [],
   "source": [
    "# # libraries\n",
    "# import pandas as pd\n",
    "# import numpy as np\n",
    "# import networkx as nx\n",
    "# import matplotlib.pyplot as plt\n",
    " \n",
    "# # Build a dataframe with 4 connections\n",
    "# df = pd.DataFrame({ 'from':['A', 'B', 'C','A'], 'to':['D', 'A', 'E','C']})\n",
    " \n",
    "# # Build your graph\n",
    "# G=nx.from_pandas_dataframe(df, 'from', 'to')\n",
    " \n",
    "# # Plot it\n",
    "# nx.draw(G, with_labels=True)\n",
    "# plt.show()\n"
   ]
  },
  {
   "cell_type": "markdown",
   "metadata": {},
   "source": [
    "### Point Map Chart\n",
    "\n",
    "![levelTwoExample_PointChart](img/levelTwoExample_PointChart.png)"
   ]
  },
  {
   "cell_type": "markdown",
   "metadata": {},
   "source": [
    "https://ausopen.com/match/2020-john-millman-vs-roger-federer-ms312#!stats"
   ]
  },
  {
   "cell_type": "code",
   "execution_count": 20,
   "metadata": {
    "ExecuteTime": {
     "end_time": "2020-03-09T23:10:00.940957Z",
     "start_time": "2020-03-09T23:09:58.131410Z"
    }
   },
   "outputs": [
    {
     "data": {
      "image/png": "[encoded data removed]",
      "text/plain": [
       "<Figure size 2160x720 with 1 Axes>"
      ]
     },
     "metadata": {
      "needs_background": "light"
     },
     "output_type": "display_data"
    }
   ],
   "source": [
    "fig = plt.subplots(figsize=(30, 10))\n",
    "v.makePointMap(levelTwoDF, playerList, colorList=['orange', 'yellow'])\n",
    "\n",
    "\n",
    "# Size chart\n",
    "plus = 4\n",
    "maxValue = levelTwoDF['rallyLength'].max()/2\n",
    "maxValuePlus = maxValue + plus\n",
    "plt.ylim(-1*maxValuePlus, maxValuePlus)\n",
    "# Show player names on y axis\n",
    "# plt.yticks(ticks=[.75*maxValue, -.75*maxValue], labels=playerList)\n",
    "# plt.tick_params(axis='y', length=0)\n",
    "plt.show()"
   ]
  },
  {
   "cell_type": "markdown",
   "metadata": {},
   "source": [
    "### Points2Set"
   ]
  },
  {
   "cell_type": "code",
   "execution_count": 68,
   "metadata": {
    "ExecuteTime": {
     "end_time": "2020-03-10T00:07:29.877606Z",
     "start_time": "2020-03-10T00:07:29.793830Z"
    }
   },
   "outputs": [
    {
     "data": {
      "text/html": [
       "<div>\n",
       "<style scoped>\n",
       "    .dataframe tbody tr th:only-of-type {\n",
       "        vertical-align: middle;\n",
       "    }\n",
       "\n",
       "    .dataframe tbody tr th {\n",
       "        vertical-align: top;\n",
       "    }\n",
       "\n",
       "    .dataframe thead th {\n",
       "        text-align: right;\n",
       "    }\n",
       "</style>\n",
       "<table border=\"1\" class=\"dataframe\">\n",
       "  <thead>\n",
       "    <tr style=\"text-align: right;\">\n",
       "      <th></th>\n",
       "      <th>setInMatch</th>\n",
       "      <th>gameInSet</th>\n",
       "      <th>setGame</th>\n",
       "      <th>setScore</th>\n",
       "      <th>gameScore</th>\n",
       "      <th>pointScore</th>\n",
       "      <th>pointIndex</th>\n",
       "      <th>server</th>\n",
       "      <th>receiver</th>\n",
       "      <th>rallyLength</th>\n",
       "      <th>result</th>\n",
       "      <th>winner</th>\n",
       "      <th>loser</th>\n",
       "      <th>winPoint</th>\n",
       "      <th>winGame</th>\n",
       "      <th>winPointSum</th>\n",
       "    </tr>\n",
       "  </thead>\n",
       "  <tbody>\n",
       "    <tr>\n",
       "      <th>259</th>\n",
       "      <td>5</td>\n",
       "      <td>1</td>\n",
       "      <td>5-1</td>\n",
       "      <td>2-2</td>\n",
       "      <td>0-0</td>\n",
       "      <td>0-0</td>\n",
       "      <td>260</td>\n",
       "      <td>Roger Federer</td>\n",
       "      <td>John Millman</td>\n",
       "      <td>7</td>\n",
       "      <td>forced error</td>\n",
       "      <td>Roger Federer</td>\n",
       "      <td>John Millman</td>\n",
       "      <td>1</td>\n",
       "      <td>1</td>\n",
       "      <td>1</td>\n",
       "    </tr>\n",
       "    <tr>\n",
       "      <th>260</th>\n",
       "      <td>5</td>\n",
       "      <td>1</td>\n",
       "      <td>5-1</td>\n",
       "      <td>2-2</td>\n",
       "      <td>0-0</td>\n",
       "      <td>15-0</td>\n",
       "      <td>261</td>\n",
       "      <td>Roger Federer</td>\n",
       "      <td>John Millman</td>\n",
       "      <td>3</td>\n",
       "      <td>forced error</td>\n",
       "      <td>Roger Federer</td>\n",
       "      <td>John Millman</td>\n",
       "      <td>1</td>\n",
       "      <td>1</td>\n",
       "      <td>2</td>\n",
       "    </tr>\n",
       "    <tr>\n",
       "      <th>261</th>\n",
       "      <td>5</td>\n",
       "      <td>1</td>\n",
       "      <td>5-1</td>\n",
       "      <td>2-2</td>\n",
       "      <td>0-0</td>\n",
       "      <td>30-0</td>\n",
       "      <td>262</td>\n",
       "      <td>Roger Federer</td>\n",
       "      <td>John Millman</td>\n",
       "      <td>1</td>\n",
       "      <td>forced error</td>\n",
       "      <td>Roger Federer</td>\n",
       "      <td>John Millman</td>\n",
       "      <td>1</td>\n",
       "      <td>1</td>\n",
       "      <td>3</td>\n",
       "    </tr>\n",
       "    <tr>\n",
       "      <th>262</th>\n",
       "      <td>5</td>\n",
       "      <td>1</td>\n",
       "      <td>5-1</td>\n",
       "      <td>2-2</td>\n",
       "      <td>0-0</td>\n",
       "      <td>40-0</td>\n",
       "      <td>263</td>\n",
       "      <td>Roger Federer</td>\n",
       "      <td>John Millman</td>\n",
       "      <td>5</td>\n",
       "      <td>winner</td>\n",
       "      <td>John Millman</td>\n",
       "      <td>Roger Federer</td>\n",
       "      <td>0</td>\n",
       "      <td>1</td>\n",
       "      <td>3</td>\n",
       "    </tr>\n",
       "    <tr>\n",
       "      <th>263</th>\n",
       "      <td>5</td>\n",
       "      <td>1</td>\n",
       "      <td>5-1</td>\n",
       "      <td>2-2</td>\n",
       "      <td>0-0</td>\n",
       "      <td>40-15</td>\n",
       "      <td>264</td>\n",
       "      <td>Roger Federer</td>\n",
       "      <td>John Millman</td>\n",
       "      <td>1</td>\n",
       "      <td>forced error</td>\n",
       "      <td>Roger Federer</td>\n",
       "      <td>John Millman</td>\n",
       "      <td>1</td>\n",
       "      <td>1</td>\n",
       "      <td>4</td>\n",
       "    </tr>\n",
       "    <tr>\n",
       "      <th>264</th>\n",
       "      <td>5</td>\n",
       "      <td>2</td>\n",
       "      <td>5-2</td>\n",
       "      <td>2-2</td>\n",
       "      <td>0-1</td>\n",
       "      <td>0-0</td>\n",
       "      <td>265</td>\n",
       "      <td>John Millman</td>\n",
       "      <td>Roger Federer</td>\n",
       "      <td>1</td>\n",
       "      <td>forced error</td>\n",
       "      <td>John Millman</td>\n",
       "      <td>Roger Federer</td>\n",
       "      <td>0</td>\n",
       "      <td>0</td>\n",
       "      <td>4</td>\n",
       "    </tr>\n",
       "    <tr>\n",
       "      <th>265</th>\n",
       "      <td>5</td>\n",
       "      <td>2</td>\n",
       "      <td>5-2</td>\n",
       "      <td>2-2</td>\n",
       "      <td>0-1</td>\n",
       "      <td>15-0</td>\n",
       "      <td>266</td>\n",
       "      <td>John Millman</td>\n",
       "      <td>Roger Federer</td>\n",
       "      <td>2</td>\n",
       "      <td>forced error</td>\n",
       "      <td>Roger Federer</td>\n",
       "      <td>John Millman</td>\n",
       "      <td>1</td>\n",
       "      <td>0</td>\n",
       "      <td>5</td>\n",
       "    </tr>\n",
       "    <tr>\n",
       "      <th>266</th>\n",
       "      <td>5</td>\n",
       "      <td>2</td>\n",
       "      <td>5-2</td>\n",
       "      <td>2-2</td>\n",
       "      <td>0-1</td>\n",
       "      <td>15-15</td>\n",
       "      <td>267</td>\n",
       "      <td>John Millman</td>\n",
       "      <td>Roger Federer</td>\n",
       "      <td>0</td>\n",
       "      <td>ace</td>\n",
       "      <td>John Millman</td>\n",
       "      <td>Roger Federer</td>\n",
       "      <td>0</td>\n",
       "      <td>0</td>\n",
       "      <td>5</td>\n",
       "    </tr>\n",
       "    <tr>\n",
       "      <th>267</th>\n",
       "      <td>5</td>\n",
       "      <td>2</td>\n",
       "      <td>5-2</td>\n",
       "      <td>2-2</td>\n",
       "      <td>0-1</td>\n",
       "      <td>30-15</td>\n",
       "      <td>268</td>\n",
       "      <td>John Millman</td>\n",
       "      <td>Roger Federer</td>\n",
       "      <td>1</td>\n",
       "      <td>forced error</td>\n",
       "      <td>John Millman</td>\n",
       "      <td>Roger Federer</td>\n",
       "      <td>0</td>\n",
       "      <td>0</td>\n",
       "      <td>5</td>\n",
       "    </tr>\n",
       "    <tr>\n",
       "      <th>268</th>\n",
       "      <td>5</td>\n",
       "      <td>2</td>\n",
       "      <td>5-2</td>\n",
       "      <td>2-2</td>\n",
       "      <td>0-1</td>\n",
       "      <td>40-15</td>\n",
       "      <td>269</td>\n",
       "      <td>John Millman</td>\n",
       "      <td>Roger Federer</td>\n",
       "      <td>3</td>\n",
       "      <td>unforced error</td>\n",
       "      <td>John Millman</td>\n",
       "      <td>Roger Federer</td>\n",
       "      <td>0</td>\n",
       "      <td>0</td>\n",
       "      <td>5</td>\n",
       "    </tr>\n",
       "    <tr>\n",
       "      <th>269</th>\n",
       "      <td>5</td>\n",
       "      <td>3</td>\n",
       "      <td>5-3</td>\n",
       "      <td>2-2</td>\n",
       "      <td>1-1</td>\n",
       "      <td>0-0</td>\n",
       "      <td>270</td>\n",
       "      <td>Roger Federer</td>\n",
       "      <td>John Millman</td>\n",
       "      <td>3</td>\n",
       "      <td>winner</td>\n",
       "      <td>John Millman</td>\n",
       "      <td>Roger Federer</td>\n",
       "      <td>0</td>\n",
       "      <td>0</td>\n",
       "      <td>5</td>\n",
       "    </tr>\n",
       "    <tr>\n",
       "      <th>270</th>\n",
       "      <td>5</td>\n",
       "      <td>3</td>\n",
       "      <td>5-3</td>\n",
       "      <td>2-2</td>\n",
       "      <td>1-1</td>\n",
       "      <td>0-15</td>\n",
       "      <td>271</td>\n",
       "      <td>Roger Federer</td>\n",
       "      <td>John Millman</td>\n",
       "      <td>0</td>\n",
       "      <td>ace</td>\n",
       "      <td>Roger Federer</td>\n",
       "      <td>John Millman</td>\n",
       "      <td>1</td>\n",
       "      <td>0</td>\n",
       "      <td>6</td>\n",
       "    </tr>\n",
       "    <tr>\n",
       "      <th>271</th>\n",
       "      <td>5</td>\n",
       "      <td>3</td>\n",
       "      <td>5-3</td>\n",
       "      <td>2-2</td>\n",
       "      <td>1-1</td>\n",
       "      <td>15-15</td>\n",
       "      <td>272</td>\n",
       "      <td>Roger Federer</td>\n",
       "      <td>John Millman</td>\n",
       "      <td>0</td>\n",
       "      <td>double fault</td>\n",
       "      <td>John Millman</td>\n",
       "      <td>Roger Federer</td>\n",
       "      <td>0</td>\n",
       "      <td>0</td>\n",
       "      <td>6</td>\n",
       "    </tr>\n",
       "    <tr>\n",
       "      <th>272</th>\n",
       "      <td>5</td>\n",
       "      <td>3</td>\n",
       "      <td>5-3</td>\n",
       "      <td>2-2</td>\n",
       "      <td>1-1</td>\n",
       "      <td>15-30</td>\n",
       "      <td>273</td>\n",
       "      <td>Roger Federer</td>\n",
       "      <td>John Millman</td>\n",
       "      <td>9</td>\n",
       "      <td>winner</td>\n",
       "      <td>John Millman</td>\n",
       "      <td>Roger Federer</td>\n",
       "      <td>0</td>\n",
       "      <td>0</td>\n",
       "      <td>6</td>\n",
       "    </tr>\n",
       "    <tr>\n",
       "      <th>273</th>\n",
       "      <td>5</td>\n",
       "      <td>3</td>\n",
       "      <td>5-3</td>\n",
       "      <td>2-2</td>\n",
       "      <td>1-1</td>\n",
       "      <td>15-40</td>\n",
       "      <td>274</td>\n",
       "      <td>Roger Federer</td>\n",
       "      <td>John Millman</td>\n",
       "      <td>3</td>\n",
       "      <td>unforced error</td>\n",
       "      <td>Roger Federer</td>\n",
       "      <td>John Millman</td>\n",
       "      <td>1</td>\n",
       "      <td>0</td>\n",
       "      <td>7</td>\n",
       "    </tr>\n",
       "  </tbody>\n",
       "</table>\n",
       "</div>"
      ],
      "text/plain": [
       "     setInMatch  gameInSet setGame setScore gameScore pointScore  pointIndex  \\\n",
       "259           5          1     5-1      2-2       0-0        0-0         260   \n",
       "260           5          1     5-1      2-2       0-0       15-0         261   \n",
       "261           5          1     5-1      2-2       0-0       30-0         262   \n",
       "262           5          1     5-1      2-2       0-0       40-0         263   \n",
       "263           5          1     5-1      2-2       0-0      40-15         264   \n",
       "264           5          2     5-2      2-2       0-1        0-0         265   \n",
       "265           5          2     5-2      2-2       0-1       15-0         266   \n",
       "266           5          2     5-2      2-2       0-1      15-15         267   \n",
       "267           5          2     5-2      2-2       0-1      30-15         268   \n",
       "268           5          2     5-2      2-2       0-1      40-15         269   \n",
       "269           5          3     5-3      2-2       1-1        0-0         270   \n",
       "270           5          3     5-3      2-2       1-1       0-15         271   \n",
       "271           5          3     5-3      2-2       1-1      15-15         272   \n",
       "272           5          3     5-3      2-2       1-1      15-30         273   \n",
       "273           5          3     5-3      2-2       1-1      15-40         274   \n",
       "\n",
       "            server       receiver  rallyLength          result         winner  \\\n",
       "259  Roger Federer   John Millman            7    forced error  Roger Federer   \n",
       "260  Roger Federer   John Millman            3    forced error  Roger Federer   \n",
       "261  Roger Federer   John Millman            1    forced error  Roger Federer   \n",
       "262  Roger Federer   John Millman            5          winner   John Millman   \n",
       "263  Roger Federer   John Millman            1    forced error  Roger Federer   \n",
       "264   John Millman  Roger Federer            1    forced error   John Millman   \n",
       "265   John Millman  Roger Federer            2    forced error  Roger Federer   \n",
       "266   John Millman  Roger Federer            0             ace   John Millman   \n",
       "267   John Millman  Roger Federer            1    forced error   John Millman   \n",
       "268   John Millman  Roger Federer            3  unforced error   John Millman   \n",
       "269  Roger Federer   John Millman            3          winner   John Millman   \n",
       "270  Roger Federer   John Millman            0             ace  Roger Federer   \n",
       "271  Roger Federer   John Millman            0    double fault   John Millman   \n",
       "272  Roger Federer   John Millman            9          winner   John Millman   \n",
       "273  Roger Federer   John Millman            3  unforced error  Roger Federer   \n",
       "\n",
       "             loser  winPoint  winGame  winPointSum  \n",
       "259   John Millman         1        1            1  \n",
       "260   John Millman         1        1            2  \n",
       "261   John Millman         1        1            3  \n",
       "262  Roger Federer         0        1            3  \n",
       "263   John Millman         1        1            4  \n",
       "264  Roger Federer         0        0            4  \n",
       "265   John Millman         1        0            5  \n",
       "266  Roger Federer         0        0            5  \n",
       "267  Roger Federer         0        0            5  \n",
       "268  Roger Federer         0        0            5  \n",
       "269  Roger Federer         0        0            5  \n",
       "270   John Millman         1        0            6  \n",
       "271  Roger Federer         0        0            6  \n",
       "272  Roger Federer         0        0            6  \n",
       "273   John Millman         1        0            7  "
      ]
     },
     "execution_count": 68,
     "metadata": {},
     "output_type": "execute_result"
    }
   ],
   "source": [
    "lastPointDict=dict(levelTwoDF.groupby('gameInSet')['pointIndex'].nth(-1))\n",
    "gameWinDict=dict(levelTwoDF.groupby('gameInSet')['winner'].nth(-1))\n",
    "\n",
    "test = levelTwoDF.copy()\n",
    "playerSelected=player\n",
    "test['winPoint'] = test['winner'].apply(lambda x: (x==playerSelected)*1)\n",
    "test['winGame'] = test['gameInSet'].apply(lambda x: (gameWinDict[x]==playerSelected)*1)\n",
    "\n",
    "test['winPointSum'] = test['winPoint'].cumsum()\n",
    "\n",
    "# test['lastPointGame'] = test['gameInSet'].apply(lambda x: lastPointDict[x])\n",
    "\n",
    "test.head(15)"
   ]
  },
  {
   "cell_type": "markdown",
   "metadata": {},
   "source": [
    "### (Points Won Chart)"
   ]
  },
  {
   "cell_type": "code",
   "execution_count": 57,
   "metadata": {
    "ExecuteTime": {
     "end_time": "2020-03-09T23:45:24.914121Z",
     "start_time": "2020-03-09T23:45:24.849294Z"
    }
   },
   "outputs": [
    {
     "data": {
      "text/html": [
       "<div>\n",
       "<style scoped>\n",
       "    .dataframe tbody tr th:only-of-type {\n",
       "        vertical-align: middle;\n",
       "    }\n",
       "\n",
       "    .dataframe tbody tr th {\n",
       "        vertical-align: top;\n",
       "    }\n",
       "\n",
       "    .dataframe thead th {\n",
       "        text-align: right;\n",
       "    }\n",
       "</style>\n",
       "<table border=\"1\" class=\"dataframe\">\n",
       "  <thead>\n",
       "    <tr style=\"text-align: right;\">\n",
       "      <th></th>\n",
       "      <th>setInMatch</th>\n",
       "      <th>gameInSet</th>\n",
       "      <th>setGame</th>\n",
       "      <th>setScore</th>\n",
       "      <th>gameScore</th>\n",
       "      <th>pointScore</th>\n",
       "      <th>pointIndex</th>\n",
       "      <th>server</th>\n",
       "      <th>receiver</th>\n",
       "      <th>rallyLength</th>\n",
       "      <th>result</th>\n",
       "      <th>winner</th>\n",
       "      <th>loser</th>\n",
       "      <th>winPoint</th>\n",
       "      <th>winPointSum</th>\n",
       "    </tr>\n",
       "  </thead>\n",
       "  <tbody>\n",
       "    <tr>\n",
       "      <th>259</th>\n",
       "      <td>5</td>\n",
       "      <td>1</td>\n",
       "      <td>5-1</td>\n",
       "      <td>2-2</td>\n",
       "      <td>0-0</td>\n",
       "      <td>0-0</td>\n",
       "      <td>260</td>\n",
       "      <td>Roger Federer</td>\n",
       "      <td>John Millman</td>\n",
       "      <td>7</td>\n",
       "      <td>forced error</td>\n",
       "      <td>Roger Federer</td>\n",
       "      <td>John Millman</td>\n",
       "      <td>1</td>\n",
       "      <td>1</td>\n",
       "    </tr>\n",
       "    <tr>\n",
       "      <th>260</th>\n",
       "      <td>5</td>\n",
       "      <td>1</td>\n",
       "      <td>5-1</td>\n",
       "      <td>2-2</td>\n",
       "      <td>0-0</td>\n",
       "      <td>15-0</td>\n",
       "      <td>261</td>\n",
       "      <td>Roger Federer</td>\n",
       "      <td>John Millman</td>\n",
       "      <td>3</td>\n",
       "      <td>forced error</td>\n",
       "      <td>Roger Federer</td>\n",
       "      <td>John Millman</td>\n",
       "      <td>1</td>\n",
       "      <td>2</td>\n",
       "    </tr>\n",
       "    <tr>\n",
       "      <th>261</th>\n",
       "      <td>5</td>\n",
       "      <td>1</td>\n",
       "      <td>5-1</td>\n",
       "      <td>2-2</td>\n",
       "      <td>0-0</td>\n",
       "      <td>30-0</td>\n",
       "      <td>262</td>\n",
       "      <td>Roger Federer</td>\n",
       "      <td>John Millman</td>\n",
       "      <td>1</td>\n",
       "      <td>forced error</td>\n",
       "      <td>Roger Federer</td>\n",
       "      <td>John Millman</td>\n",
       "      <td>1</td>\n",
       "      <td>3</td>\n",
       "    </tr>\n",
       "    <tr>\n",
       "      <th>262</th>\n",
       "      <td>5</td>\n",
       "      <td>1</td>\n",
       "      <td>5-1</td>\n",
       "      <td>2-2</td>\n",
       "      <td>0-0</td>\n",
       "      <td>40-0</td>\n",
       "      <td>263</td>\n",
       "      <td>Roger Federer</td>\n",
       "      <td>John Millman</td>\n",
       "      <td>5</td>\n",
       "      <td>winner</td>\n",
       "      <td>John Millman</td>\n",
       "      <td>Roger Federer</td>\n",
       "      <td>0</td>\n",
       "      <td>3</td>\n",
       "    </tr>\n",
       "    <tr>\n",
       "      <th>263</th>\n",
       "      <td>5</td>\n",
       "      <td>1</td>\n",
       "      <td>5-1</td>\n",
       "      <td>2-2</td>\n",
       "      <td>0-0</td>\n",
       "      <td>40-15</td>\n",
       "      <td>264</td>\n",
       "      <td>Roger Federer</td>\n",
       "      <td>John Millman</td>\n",
       "      <td>1</td>\n",
       "      <td>forced error</td>\n",
       "      <td>Roger Federer</td>\n",
       "      <td>John Millman</td>\n",
       "      <td>1</td>\n",
       "      <td>4</td>\n",
       "    </tr>\n",
       "  </tbody>\n",
       "</table>\n",
       "</div>"
      ],
      "text/plain": [
       "     setInMatch  gameInSet setGame setScore gameScore pointScore  pointIndex  \\\n",
       "259           5          1     5-1      2-2       0-0        0-0         260   \n",
       "260           5          1     5-1      2-2       0-0       15-0         261   \n",
       "261           5          1     5-1      2-2       0-0       30-0         262   \n",
       "262           5          1     5-1      2-2       0-0       40-0         263   \n",
       "263           5          1     5-1      2-2       0-0      40-15         264   \n",
       "\n",
       "            server      receiver  rallyLength        result         winner  \\\n",
       "259  Roger Federer  John Millman            7  forced error  Roger Federer   \n",
       "260  Roger Federer  John Millman            3  forced error  Roger Federer   \n",
       "261  Roger Federer  John Millman            1  forced error  Roger Federer   \n",
       "262  Roger Federer  John Millman            5        winner   John Millman   \n",
       "263  Roger Federer  John Millman            1  forced error  Roger Federer   \n",
       "\n",
       "             loser  winPoint  winPointSum  \n",
       "259   John Millman         1            1  \n",
       "260   John Millman         1            2  \n",
       "261   John Millman         1            3  \n",
       "262  Roger Federer         0            3  \n",
       "263   John Millman         1            4  "
      ]
     },
     "execution_count": 57,
     "metadata": {},
     "output_type": "execute_result"
    }
   ],
   "source": [
    "test = levelTwoDF.copy()\n",
    "playerSelected=player\n",
    "test['winPoint'] = test['winner'].apply(lambda x: (x==playerSelected)*1)\n",
    "test['winPointSum'] = test['winPoint'].cumsum()\n",
    "test.head()"
   ]
  },
  {
   "cell_type": "markdown",
   "metadata": {},
   "source": [
    "### Point Balance Chart"
   ]
  },
  {
   "cell_type": "code",
   "execution_count": 136,
   "metadata": {
    "ExecuteTime": {
     "end_time": "2020-03-09T04:00:53.025918Z",
     "start_time": "2020-03-09T04:00:52.570424Z"
    }
   },
   "outputs": [
    {
     "data": {
      "text/plain": [
       "[<matplotlib.lines.Line2D at 0x1bd171fc400>]"
      ]
     },
     "execution_count": 136,
     "metadata": {},
     "output_type": "execute_result"
    },
    {
     "data": {
      "image/png": "[encoded data removed]",
      "text/plain": [
       "<Figure size 432x288 with 2 Axes>"
      ]
     },
     "metadata": {
      "needs_background": "light"
     },
     "output_type": "display_data"
    }
   ],
   "source": [
    "fig, axes = plt.subplots(nrows=2)\n",
    "v.plotPointBalance(levelTwoDF, playerList, ax=axes[1])"
   ]
  },
  {
   "cell_type": "code",
   "execution_count": 167,
   "metadata": {
    "ExecuteTime": {
     "end_time": "2020-03-09T04:13:17.917072Z",
     "start_time": "2020-03-09T04:13:17.476284Z"
    }
   },
   "outputs": [
    {
     "data": {
      "image/png": "[encoded data removed]",
      "text/plain": [
       "<Figure size 1152x648 with 1 Axes>"
      ]
     },
     "metadata": {
      "needs_background": "light"
     },
     "output_type": "display_data"
    }
   ],
   "source": [
    "fig, ax= plt.subplots(figsize=(16,9))\n",
    "test = o.addPointBalanceColumn(levelTwoDF, playerList)\n",
    "test.set_index('gameInSet', inplace=True)\n",
    "# test.plot(x='pointIndex', y='pointBalance')\n",
    "line = plt.plot('pointIndex', 'pointBalance', data=test)\n",
    "v.label_group_bar_table(ax, test)\n"
   ]
  },
  {
   "cell_type": "markdown",
   "metadata": {},
   "source": [
    "### Point Momentum Chart"
   ]
  },
  {
   "cell_type": "code",
   "execution_count": 62,
   "metadata": {
    "ExecuteTime": {
     "end_time": "2020-03-08T21:44:22.293622Z",
     "start_time": "2020-03-08T21:44:21.996759Z"
    }
   },
   "outputs": [
    {
     "data": {
      "text/plain": [
       "<matplotlib.axes._subplots.AxesSubplot at 0x1d5d62630f0>"
      ]
     },
     "execution_count": 62,
     "metadata": {},
     "output_type": "execute_result"
    },
    {
     "data": {
      "image/png": "[encoded data removed]",
      "text/plain": [
       "<Figure size 432x288 with 1 Axes>"
      ]
     },
     "metadata": {
      "needs_background": "light"
     },
     "output_type": "display_data"
    }
   ],
   "source": [
    "test = o.addPointMomentumColumn(levelTwoDF, playerList)\n",
    "test['pointMomentum'].plot()"
   ]
  },
  {
   "cell_type": "markdown",
   "metadata": {},
   "source": [
    "### Combining"
   ]
  },
  {
   "cell_type": "code",
   "execution_count": 171,
   "metadata": {
    "ExecuteTime": {
     "end_time": "2020-03-09T04:14:41.175361Z",
     "start_time": "2020-03-09T04:14:40.547966Z"
    }
   },
   "outputs": [
    {
     "data": {
      "image/png": "[encoded data removed]",
      "text/plain": [
       "<Figure size 1152x720 with 3 Axes>"
      ]
     },
     "metadata": {
      "needs_background": "light"
     },
     "output_type": "display_data"
    }
   ],
   "source": [
    "fig, axes = plt.subplots(nrows=3, figsize=(16, 10))\n",
    "\n",
    "v.plotLineColumn(o.addPointBalanceColumn(levelTwoDF, playerList), playerList, 'pointBalance', ax=axes[0])\n",
    "v.plotLineColumn(o.addPointMomentumColumn(levelTwoDF, playerList), playerList, 'pointMomentum', ax=axes[1])\n",
    "\n",
    "plt.show()"
   ]
  },
  {
   "cell_type": "markdown",
   "metadata": {},
   "source": [
    "# Level 3: Track Shot Attributes (Shot)\n",
    "\n",
    "- stroke (include 1st and 2nd serve distinction)\n",
    "- direction"
   ]
  },
  {
   "cell_type": "markdown",
   "metadata": {},
   "source": [
    "gives you\n",
    "- serve and return win percentages\n",
    "- better 'aggression' (influence)\n",
    "- shot combos, including S/S1 and R/R1"
   ]
  },
  {
   "cell_type": "code",
   "execution_count": 35,
   "metadata": {
    "ExecuteTime": {
     "end_time": "2020-03-08T21:15:01.932969Z",
     "start_time": "2020-03-08T21:15:01.783368Z"
    }
   },
   "outputs": [
    {
     "data": {
      "text/plain": [
       "['setInMatch',\n",
       " 'gameInSet',\n",
       " 'setGame',\n",
       " 'setScore',\n",
       " 'gameScore',\n",
       " 'pointScore',\n",
       " 'pointIndex',\n",
       " 'server',\n",
       " 'receiver',\n",
       " 'rallyLength',\n",
       " 'result',\n",
       " 'winner',\n",
       " 'loser']"
      ]
     },
     "execution_count": 35,
     "metadata": {},
     "output_type": "execute_result"
    }
   ],
   "source": [
    "levelTwoColumns"
   ]
  },
  {
   "cell_type": "code",
   "execution_count": 37,
   "metadata": {
    "ExecuteTime": {
     "end_time": "2020-03-08T21:15:29.903952Z",
     "start_time": "2020-03-08T21:15:29.723297Z"
    }
   },
   "outputs": [
    {
     "data": {
      "text/html": [
       "<div>\n",
       "<style scoped>\n",
       "    .dataframe tbody tr th:only-of-type {\n",
       "        vertical-align: middle;\n",
       "    }\n",
       "\n",
       "    .dataframe tbody tr th {\n",
       "        vertical-align: top;\n",
       "    }\n",
       "\n",
       "    .dataframe thead th {\n",
       "        text-align: right;\n",
       "    }\n",
       "</style>\n",
       "<table border=\"1\" class=\"dataframe\">\n",
       "  <thead>\n",
       "    <tr style=\"text-align: right;\">\n",
       "      <th></th>\n",
       "      <th>matchPoint</th>\n",
       "      <th>matchPointShotNumWithServe</th>\n",
       "      <th>shotNum</th>\n",
       "      <th>shotBy</th>\n",
       "      <th>shotNumWithServe</th>\n",
       "      <th>shot</th>\n",
       "      <th>location</th>\n",
       "      <th>result_shot</th>\n",
       "      <th>matchLink</th>\n",
       "      <th>point</th>\n",
       "      <th>...</th>\n",
       "      <th>result_point</th>\n",
       "      <th>rally</th>\n",
       "      <th>side</th>\n",
       "      <th>rallyLength</th>\n",
       "      <th>receiver</th>\n",
       "      <th>winner</th>\n",
       "      <th>loser</th>\n",
       "      <th>setInMatch</th>\n",
       "      <th>gameInSet</th>\n",
       "      <th>setGame</th>\n",
       "    </tr>\n",
       "  </thead>\n",
       "  <tbody>\n",
       "    <tr>\n",
       "      <th>0</th>\n",
       "      <td>http://www.tennisabstract.com/charting/2020012...</td>\n",
       "      <td>http://www.tennisabstract.com/charting/2020012...</td>\n",
       "      <td>0</td>\n",
       "      <td>John Millman</td>\n",
       "      <td>0</td>\n",
       "      <td>1st serve</td>\n",
       "      <td>wide</td>\n",
       "      <td>None</td>\n",
       "      <td>http://www.tennisabstract.com/charting/2020012...</td>\n",
       "      <td>1</td>\n",
       "      <td>...</td>\n",
       "      <td>forced error</td>\n",
       "      <td>1st serve wide; forehand return crosscourt (deep)</td>\n",
       "      <td>deuce</td>\n",
       "      <td>1</td>\n",
       "      <td>Roger Federer</td>\n",
       "      <td>John Millman</td>\n",
       "      <td>Roger Federer</td>\n",
       "      <td>1</td>\n",
       "      <td>1</td>\n",
       "      <td>1-1</td>\n",
       "    </tr>\n",
       "    <tr>\n",
       "      <th>1</th>\n",
       "      <td>http://www.tennisabstract.com/charting/2020012...</td>\n",
       "      <td>http://www.tennisabstract.com/charting/2020012...</td>\n",
       "      <td>1</td>\n",
       "      <td>Roger Federer</td>\n",
       "      <td>1</td>\n",
       "      <td>forehand return</td>\n",
       "      <td>crosscourt (deep)</td>\n",
       "      <td>forced error</td>\n",
       "      <td>http://www.tennisabstract.com/charting/2020012...</td>\n",
       "      <td>1</td>\n",
       "      <td>...</td>\n",
       "      <td>forced error</td>\n",
       "      <td>1st serve wide; forehand return crosscourt (deep)</td>\n",
       "      <td>deuce</td>\n",
       "      <td>1</td>\n",
       "      <td>Roger Federer</td>\n",
       "      <td>John Millman</td>\n",
       "      <td>Roger Federer</td>\n",
       "      <td>1</td>\n",
       "      <td>1</td>\n",
       "      <td>1-1</td>\n",
       "    </tr>\n",
       "    <tr>\n",
       "      <th>2</th>\n",
       "      <td>http://www.tennisabstract.com/charting/2020012...</td>\n",
       "      <td>http://www.tennisabstract.com/charting/2020012...</td>\n",
       "      <td>0</td>\n",
       "      <td>John Millman</td>\n",
       "      <td>0</td>\n",
       "      <td>1st serve</td>\n",
       "      <td>wide</td>\n",
       "      <td>None</td>\n",
       "      <td>http://www.tennisabstract.com/charting/2020012...</td>\n",
       "      <td>2</td>\n",
       "      <td>...</td>\n",
       "      <td>forced error</td>\n",
       "      <td>1st serve wide; backhand return crosscourt</td>\n",
       "      <td>ad</td>\n",
       "      <td>1</td>\n",
       "      <td>Roger Federer</td>\n",
       "      <td>John Millman</td>\n",
       "      <td>Roger Federer</td>\n",
       "      <td>1</td>\n",
       "      <td>1</td>\n",
       "      <td>1-1</td>\n",
       "    </tr>\n",
       "    <tr>\n",
       "      <th>3</th>\n",
       "      <td>http://www.tennisabstract.com/charting/2020012...</td>\n",
       "      <td>http://www.tennisabstract.com/charting/2020012...</td>\n",
       "      <td>1</td>\n",
       "      <td>Roger Federer</td>\n",
       "      <td>1</td>\n",
       "      <td>backhand return</td>\n",
       "      <td>crosscourt</td>\n",
       "      <td>forced error</td>\n",
       "      <td>http://www.tennisabstract.com/charting/2020012...</td>\n",
       "      <td>2</td>\n",
       "      <td>...</td>\n",
       "      <td>forced error</td>\n",
       "      <td>1st serve wide; backhand return crosscourt</td>\n",
       "      <td>ad</td>\n",
       "      <td>1</td>\n",
       "      <td>Roger Federer</td>\n",
       "      <td>John Millman</td>\n",
       "      <td>Roger Federer</td>\n",
       "      <td>1</td>\n",
       "      <td>1</td>\n",
       "      <td>1-1</td>\n",
       "    </tr>\n",
       "    <tr>\n",
       "      <th>4</th>\n",
       "      <td>http://www.tennisabstract.com/charting/2020012...</td>\n",
       "      <td>http://www.tennisabstract.com/charting/2020012...</td>\n",
       "      <td>0</td>\n",
       "      <td>John Millman</td>\n",
       "      <td>0</td>\n",
       "      <td>1st serve</td>\n",
       "      <td>wide</td>\n",
       "      <td>None</td>\n",
       "      <td>http://www.tennisabstract.com/charting/2020012...</td>\n",
       "      <td>3</td>\n",
       "      <td>...</td>\n",
       "      <td>unforced error</td>\n",
       "      <td>1st serve wide; forehand return down the middl...</td>\n",
       "      <td>deuce</td>\n",
       "      <td>9</td>\n",
       "      <td>Roger Federer</td>\n",
       "      <td>John Millman</td>\n",
       "      <td>Roger Federer</td>\n",
       "      <td>1</td>\n",
       "      <td>1</td>\n",
       "      <td>1-1</td>\n",
       "    </tr>\n",
       "  </tbody>\n",
       "</table>\n",
       "<p>5 rows × 25 columns</p>\n",
       "</div>"
      ],
      "text/plain": [
       "                                          matchPoint  \\\n",
       "0  http://www.tennisabstract.com/charting/2020012...   \n",
       "1  http://www.tennisabstract.com/charting/2020012...   \n",
       "2  http://www.tennisabstract.com/charting/2020012...   \n",
       "3  http://www.tennisabstract.com/charting/2020012...   \n",
       "4  http://www.tennisabstract.com/charting/2020012...   \n",
       "\n",
       "                          matchPointShotNumWithServe  shotNum         shotBy  \\\n",
       "0  http://www.tennisabstract.com/charting/2020012...        0   John Millman   \n",
       "1  http://www.tennisabstract.com/charting/2020012...        1  Roger Federer   \n",
       "2  http://www.tennisabstract.com/charting/2020012...        0   John Millman   \n",
       "3  http://www.tennisabstract.com/charting/2020012...        1  Roger Federer   \n",
       "4  http://www.tennisabstract.com/charting/2020012...        0   John Millman   \n",
       "\n",
       "   shotNumWithServe             shot           location   result_shot  \\\n",
       "0                 0        1st serve               wide          None   \n",
       "1                 1  forehand return  crosscourt (deep)  forced error   \n",
       "2                 0        1st serve               wide          None   \n",
       "3                 1  backhand return         crosscourt  forced error   \n",
       "4                 0        1st serve               wide          None   \n",
       "\n",
       "                                           matchLink  point  ...  \\\n",
       "0  http://www.tennisabstract.com/charting/2020012...      1  ...   \n",
       "1  http://www.tennisabstract.com/charting/2020012...      1  ...   \n",
       "2  http://www.tennisabstract.com/charting/2020012...      2  ...   \n",
       "3  http://www.tennisabstract.com/charting/2020012...      2  ...   \n",
       "4  http://www.tennisabstract.com/charting/2020012...      3  ...   \n",
       "\n",
       "     result_point                                              rally   side  \\\n",
       "0    forced error  1st serve wide; forehand return crosscourt (deep)  deuce   \n",
       "1    forced error  1st serve wide; forehand return crosscourt (deep)  deuce   \n",
       "2    forced error         1st serve wide; backhand return crosscourt     ad   \n",
       "3    forced error         1st serve wide; backhand return crosscourt     ad   \n",
       "4  unforced error  1st serve wide; forehand return down the middl...  deuce   \n",
       "\n",
       "  rallyLength       receiver        winner          loser setInMatch  \\\n",
       "0           1  Roger Federer  John Millman  Roger Federer          1   \n",
       "1           1  Roger Federer  John Millman  Roger Federer          1   \n",
       "2           1  Roger Federer  John Millman  Roger Federer          1   \n",
       "3           1  Roger Federer  John Millman  Roger Federer          1   \n",
       "4           9  Roger Federer  John Millman  Roger Federer          1   \n",
       "\n",
       "   gameInSet setGame  \n",
       "0          1     1-1  \n",
       "1          1     1-1  \n",
       "2          1     1-1  \n",
       "3          1     1-1  \n",
       "4          1     1-1  \n",
       "\n",
       "[5 rows x 25 columns]"
      ]
     },
     "execution_count": 37,
     "metadata": {},
     "output_type": "execute_result"
    }
   ],
   "source": [
    "levelThreeDF = pd.merge(shots, points, on='matchPoint', how='left', suffixes=['_shot', '_point'])\n",
    "levelThreeDF.head()"
   ]
  },
  {
   "cell_type": "markdown",
   "metadata": {},
   "source": [
    "### Sankey(?) or Parallel Sets(?)"
   ]
  },
  {
   "cell_type": "code",
   "execution_count": 44,
   "metadata": {
    "ExecuteTime": {
     "end_time": "2020-03-08T21:24:12.041344Z",
     "start_time": "2020-03-08T21:24:11.719192Z"
    }
   },
   "outputs": [
    {
     "data": {
      "text/plain": [
       "Text(0.5, 1.0, 'Sankey diagram with default settings')"
      ]
     },
     "execution_count": 44,
     "metadata": {},
     "output_type": "execute_result"
    },
    {
     "data": {
      "image/png": "[encoded data removed]",
      "text/plain": [
       "<Figure size 432x288 with 1 Axes>"
      ]
     },
     "metadata": {},
     "output_type": "display_data"
    }
   ],
   "source": [
    "import numpy as np\n",
    "import matplotlib.pyplot as plt\n",
    "from matplotlib.sankey import Sankey\n",
    " \n",
    "# basic sankey chart\n",
    "flows = [.15, 0.15, 0.60, -0.20, -0.15, -0.05, -0.50, -0.10]\n",
    "labels = ['', '', '', 'First', 'Second', 'Third', 'Fourth', 'Fifth']\n",
    "orientations=[-1, 1, 0, 1, 1, 1, 0,-1]\n",
    "Sankey(flows=flows, labels=labels, orientations=orientations).finish()\n",
    "plt.title(\"Sankey diagram with default settings\")\n"
   ]
  },
  {
   "cell_type": "code",
   "execution_count": 72,
   "metadata": {
    "ExecuteTime": {
     "end_time": "2020-03-10T00:29:25.087890Z",
     "start_time": "2020-03-10T00:29:24.887427Z"
    }
   },
   "outputs": [
    {
     "data": {
      "application/vnd.plotly.v1+json": {
       "config": {
        "plotlyServerURL": "https://plot.ly"
       },
       "data": [
        {
         "link": {
          "source": [
           0,
           1,
           0,
           2,
           3,
           3
          ],
          "target": [
           2,
           3,
           3,
           4,
           4,
           5
          ],
          "value": [
           8,
           4,
           2,
           8,
           4,
           2
          ]
         },
         "node": {
          "color": "blue",
          "label": [
           "A1",
           "A2",
           "B1",
           "B2",
           "C1",
           "C2"
          ],
          "line": {
           "color": "black",
           "width": 0.5
          },
          "pad": 15,
          "thickness": 20
         },
         "type": "sankey"
        }
       ],
       "layout": {
        "font": {
         "size": 10
        },
        "template": {
         "data": {
          "bar": [
           {
            "error_x": {
             "color": "#2a3f5f"
            },
            "error_y": {
             "color": "#2a3f5f"
            },
            "marker": {
             "line": {
              "color": "#E5ECF6",
              "width": 0.5
             }
            },
            "type": "bar"
           }
          ],
          "barpolar": [
           {
            "marker": {
             "line": {
              "color": "#E5ECF6",
              "width": 0.5
             }
            },
            "type": "barpolar"
           }
          ],
          "carpet": [
           {
            "aaxis": {
             "endlinecolor": "#2a3f5f",
             "gridcolor": "white",
             "linecolor": "white",
             "minorgridcolor": "white",
             "startlinecolor": "#2a3f5f"
            },
            "baxis": {
             "endlinecolor": "#2a3f5f",
             "gridcolor": "white",
             "linecolor": "white",
             "minorgridcolor": "white",
             "startlinecolor": "#2a3f5f"
            },
            "type": "carpet"
           }
          ],
          "choropleth": [
           {
            "colorbar": {
             "outlinewidth": 0,
             "ticks": ""
            },
            "type": "choropleth"
           }
          ],
          "contour": [
           {
            "colorbar": {
             "outlinewidth": 0,
             "ticks": ""
            },
            "colorscale": [
             [
              0,
              "#0d0887"
             ],
             [
              0.1111111111111111,
              "#46039f"
             ],
             [
              0.2222222222222222,
              "#7201a8"
             ],
             [
              0.3333333333333333,
              "#9c179e"
             ],
             [
              0.4444444444444444,
              "#bd3786"
             ],
             [
              0.5555555555555556,
              "#d8576b"
             ],
             [
              0.6666666666666666,
              "#ed7953"
             ],
             [
              0.7777777777777778,
              "#fb9f3a"
             ],
             [
              0.8888888888888888,
              "#fdca26"
             ],
             [
              1,
              "#f0f921"
             ]
            ],
            "type": "contour"
           }
          ],
          "contourcarpet": [
           {
            "colorbar": {
             "outlinewidth": 0,
             "ticks": ""
            },
            "type": "contourcarpet"
           }
          ],
          "heatmap": [
           {
            "colorbar": {
             "outlinewidth": 0,
             "ticks": ""
            },
            "colorscale": [
             [
              0,
              "#0d0887"
             ],
             [
              0.1111111111111111,
              "#46039f"
             ],
             [
              0.2222222222222222,
              "#7201a8"
             ],
             [
              0.3333333333333333,
              "#9c179e"
             ],
             [
              0.4444444444444444,
              "#bd3786"
             ],
             [
              0.5555555555555556,
              "#d8576b"
             ],
             [
              0.6666666666666666,
              "#ed7953"
             ],
             [
              0.7777777777777778,
              "#fb9f3a"
             ],
             [
              0.8888888888888888,
              "#fdca26"
             ],
             [
              1,
              "#f0f921"
             ]
            ],
            "type": "heatmap"
           }
          ],
          "heatmapgl": [
           {
            "colorbar": {
             "outlinewidth": 0,
             "ticks": ""
            },
            "colorscale": [
             [
              0,
              "#0d0887"
             ],
             [
              0.1111111111111111,
              "#46039f"
             ],
             [
              0.2222222222222222,
              "#7201a8"
             ],
             [
              0.3333333333333333,
              "#9c179e"
             ],
             [
              0.4444444444444444,
              "#bd3786"
             ],
             [
              0.5555555555555556,
              "#d8576b"
             ],
             [
              0.6666666666666666,
              "#ed7953"
             ],
             [
              0.7777777777777778,
              "#fb9f3a"
             ],
             [
              0.8888888888888888,
              "#fdca26"
             ],
             [
              1,
              "#f0f921"
             ]
            ],
            "type": "heatmapgl"
           }
          ],
          "histogram": [
           {
            "marker": {
             "colorbar": {
              "outlinewidth": 0,
              "ticks": ""
             }
            },
            "type": "histogram"
           }
          ],
          "histogram2d": [
           {
            "colorbar": {
             "outlinewidth": 0,
             "ticks": ""
            },
            "colorscale": [
             [
              0,
              "#0d0887"
             ],
             [
              0.1111111111111111,
              "#46039f"
             ],
             [
              0.2222222222222222,
              "#7201a8"
             ],
             [
              0.3333333333333333,
              "#9c179e"
             ],
             [
              0.4444444444444444,
              "#bd3786"
             ],
             [
              0.5555555555555556,
              "#d8576b"
             ],
             [
              0.6666666666666666,
              "#ed7953"
             ],
             [
              0.7777777777777778,
              "#fb9f3a"
             ],
             [
              0.8888888888888888,
              "#fdca26"
             ],
             [
              1,
              "#f0f921"
             ]
            ],
            "type": "histogram2d"
           }
          ],
          "histogram2dcontour": [
           {
            "colorbar": {
             "outlinewidth": 0,
             "ticks": ""
            },
            "colorscale": [
             [
              0,
              "#0d0887"
             ],
             [
              0.1111111111111111,
              "#46039f"
             ],
             [
              0.2222222222222222,
              "#7201a8"
             ],
             [
              0.3333333333333333,
              "#9c179e"
             ],
             [
              0.4444444444444444,
              "#bd3786"
             ],
             [
              0.5555555555555556,
              "#d8576b"
             ],
             [
              0.6666666666666666,
              "#ed7953"
             ],
             [
              0.7777777777777778,
              "#fb9f3a"
             ],
             [
              0.8888888888888888,
              "#fdca26"
             ],
             [
              1,
              "#f0f921"
             ]
            ],
            "type": "histogram2dcontour"
           }
          ],
          "mesh3d": [
           {
            "colorbar": {
             "outlinewidth": 0,
             "ticks": ""
            },
            "type": "mesh3d"
           }
          ],
          "parcoords": [
           {
            "line": {
             "colorbar": {
              "outlinewidth": 0,
              "ticks": ""
             }
            },
            "type": "parcoords"
           }
          ],
          "scatter": [
           {
            "marker": {
             "colorbar": {
              "outlinewidth": 0,
              "ticks": ""
             }
            },
            "type": "scatter"
           }
          ],
          "scatter3d": [
           {
            "line": {
             "colorbar": {
              "outlinewidth": 0,
              "ticks": ""
             }
            },
            "marker": {
             "colorbar": {
              "outlinewidth": 0,
              "ticks": ""
             }
            },
            "type": "scatter3d"
           }
          ],
          "scattercarpet": [
           {
            "marker": {
             "colorbar": {
              "outlinewidth": 0,
              "ticks": ""
             }
            },
            "type": "scattercarpet"
           }
          ],
          "scattergeo": [
           {
            "marker": {
             "colorbar": {
              "outlinewidth": 0,
              "ticks": ""
             }
            },
            "type": "scattergeo"
           }
          ],
          "scattergl": [
           {
            "marker": {
             "colorbar": {
              "outlinewidth": 0,
              "ticks": ""
             }
            },
            "type": "scattergl"
           }
          ],
          "scattermapbox": [
           {
            "marker": {
             "colorbar": {
              "outlinewidth": 0,
              "ticks": ""
             }
            },
            "type": "scattermapbox"
           }
          ],
          "scatterpolar": [
           {
            "marker": {
             "colorbar": {
              "outlinewidth": 0,
              "ticks": ""
             }
            },
            "type": "scatterpolar"
           }
          ],
          "scatterpolargl": [
           {
            "marker": {
             "colorbar": {
              "outlinewidth": 0,
              "ticks": ""
             }
            },
            "type": "scatterpolargl"
           }
          ],
          "scatterternary": [
           {
            "marker": {
             "colorbar": {
              "outlinewidth": 0,
              "ticks": ""
             }
            },
            "type": "scatterternary"
           }
          ],
          "surface": [
           {
            "colorbar": {
             "outlinewidth": 0,
             "ticks": ""
            },
            "colorscale": [
             [
              0,
              "#0d0887"
             ],
             [
              0.1111111111111111,
              "#46039f"
             ],
             [
              0.2222222222222222,
              "#7201a8"
             ],
             [
              0.3333333333333333,
              "#9c179e"
             ],
             [
              0.4444444444444444,
              "#bd3786"
             ],
             [
              0.5555555555555556,
              "#d8576b"
             ],
             [
              0.6666666666666666,
              "#ed7953"
             ],
             [
              0.7777777777777778,
              "#fb9f3a"
             ],
             [
              0.8888888888888888,
              "#fdca26"
             ],
             [
              1,
              "#f0f921"
             ]
            ],
            "type": "surface"
           }
          ],
          "table": [
           {
            "cells": {
             "fill": {
              "color": "#EBF0F8"
             },
             "line": {
              "color": "white"
             }
            },
            "header": {
             "fill": {
              "color": "#C8D4E3"
             },
             "line": {
              "color": "white"
             }
            },
            "type": "table"
           }
          ]
         },
         "layout": {
          "annotationdefaults": {
           "arrowcolor": "#2a3f5f",
           "arrowhead": 0,
           "arrowwidth": 1
          },
          "colorscale": {
           "diverging": [
            [
             0,
             "#8e0152"
            ],
            [
             0.1,
             "#c51b7d"
            ],
            [
             0.2,
             "#de77ae"
            ],
            [
             0.3,
             "#f1b6da"
            ],
            [
             0.4,
             "#fde0ef"
            ],
            [
             0.5,
             "#f7f7f7"
            ],
            [
             0.6,
             "#e6f5d0"
            ],
            [
             0.7,
             "#b8e186"
            ],
            [
             0.8,
             "#7fbc41"
            ],
            [
             0.9,
             "#4d9221"
            ],
            [
             1,
             "#276419"
            ]
           ],
           "sequential": [
            [
             0,
             "#0d0887"
            ],
            [
             0.1111111111111111,
             "#46039f"
            ],
            [
             0.2222222222222222,
             "#7201a8"
            ],
            [
             0.3333333333333333,
             "#9c179e"
            ],
            [
             0.4444444444444444,
             "#bd3786"
            ],
            [
             0.5555555555555556,
             "#d8576b"
            ],
            [
             0.6666666666666666,
             "#ed7953"
            ],
            [
             0.7777777777777778,
             "#fb9f3a"
            ],
            [
             0.8888888888888888,
             "#fdca26"
            ],
            [
             1,
             "#f0f921"
            ]
           ],
           "sequentialminus": [
            [
             0,
             "#0d0887"
            ],
            [
             0.1111111111111111,
             "#46039f"
            ],
            [
             0.2222222222222222,
             "#7201a8"
            ],
            [
             0.3333333333333333,
             "#9c179e"
            ],
            [
             0.4444444444444444,
             "#bd3786"
            ],
            [
             0.5555555555555556,
             "#d8576b"
            ],
            [
             0.6666666666666666,
             "#ed7953"
            ],
            [
             0.7777777777777778,
             "#fb9f3a"
            ],
            [
             0.8888888888888888,
             "#fdca26"
            ],
            [
             1,
             "#f0f921"
            ]
           ]
          },
          "colorway": [
           "#636efa",
           "#EF553B",
           "#00cc96",
           "#ab63fa",
           "#FFA15A",
           "#19d3f3",
           "#FF6692",
           "#B6E880",
           "#FF97FF",
           "#FECB52"
          ],
          "font": {
           "color": "#2a3f5f"
          },
          "geo": {
           "bgcolor": "white",
           "lakecolor": "white",
           "landcolor": "#E5ECF6",
           "showlakes": true,
           "showland": true,
           "subunitcolor": "white"
          },
          "hoverlabel": {
           "align": "left"
          },
          "hovermode": "closest",
          "mapbox": {
           "style": "light"
          },
          "paper_bgcolor": "white",
          "plot_bgcolor": "#E5ECF6",
          "polar": {
           "angularaxis": {
            "gridcolor": "white",
            "linecolor": "white",
            "ticks": ""
           },
           "bgcolor": "#E5ECF6",
           "radialaxis": {
            "gridcolor": "white",
            "linecolor": "white",
            "ticks": ""
           }
          },
          "scene": {
           "xaxis": {
            "backgroundcolor": "#E5ECF6",
            "gridcolor": "white",
            "gridwidth": 2,
            "linecolor": "white",
            "showbackground": true,
            "ticks": "",
            "zerolinecolor": "white"
           },
           "yaxis": {
            "backgroundcolor": "#E5ECF6",
            "gridcolor": "white",
            "gridwidth": 2,
            "linecolor": "white",
            "showbackground": true,
            "ticks": "",
            "zerolinecolor": "white"
           },
           "zaxis": {
            "backgroundcolor": "#E5ECF6",
            "gridcolor": "white",
            "gridwidth": 2,
            "linecolor": "white",
            "showbackground": true,
            "ticks": "",
            "zerolinecolor": "white"
           }
          },
          "shapedefaults": {
           "line": {
            "color": "#2a3f5f"
           }
          },
          "ternary": {
           "aaxis": {
            "gridcolor": "white",
            "linecolor": "white",
            "ticks": ""
           },
           "baxis": {
            "gridcolor": "white",
            "linecolor": "white",
            "ticks": ""
           },
           "bgcolor": "#E5ECF6",
           "caxis": {
            "gridcolor": "white",
            "linecolor": "white",
            "ticks": ""
           }
          },
          "title": {
           "x": 0.05
          },
          "xaxis": {
           "automargin": true,
           "gridcolor": "white",
           "linecolor": "white",
           "ticks": "",
           "zerolinecolor": "white",
           "zerolinewidth": 2
          },
          "yaxis": {
           "automargin": true,
           "gridcolor": "white",
           "linecolor": "white",
           "ticks": "",
           "zerolinecolor": "white",
           "zerolinewidth": 2
          }
         }
        },
        "title": {
         "text": "Basic Sankey Diagram"
        }
       }
      },
      "text/html": [
       "<div>\n",
       "        \n",
       "        \n",
       "            <div id=\"723fc0f5-81bf-4d10-a3cf-79b57b54846b\" class=\"plotly-graph-div\" style=\"height:525px; width:100%;\"></div>\n",
       "            <script type=\"text/javascript\">\n",
       "                require([\"plotly\"], function(Plotly) {\n",
       "                    window.PLOTLYENV=window.PLOTLYENV || {};\n",
       "                    \n",
       "                if (document.getElementById(\"723fc0f5-81bf-4d10-a3cf-79b57b54846b\")) {\n",
       "                    Plotly.newPlot(\n",
       "                        '723fc0f5-81bf-4d10-a3cf-79b57b54846b',\n",
       "                        [{\"link\": {\"source\": [0, 1, 0, 2, 3, 3], \"target\": [2, 3, 3, 4, 4, 5], \"value\": [8, 4, 2, 8, 4, 2]}, \"node\": {\"color\": \"blue\", \"label\": [\"A1\", \"A2\", \"B1\", \"B2\", \"C1\", \"C2\"], \"line\": {\"color\": \"black\", \"width\": 0.5}, \"pad\": 15, \"thickness\": 20}, \"type\": \"sankey\"}],\n",
       "                        {\"font\": {\"size\": 10}, \"template\": {\"data\": {\"bar\": [{\"error_x\": {\"color\": \"#2a3f5f\"}, \"error_y\": {\"color\": \"#2a3f5f\"}, \"marker\": {\"line\": {\"color\": \"#E5ECF6\", \"width\": 0.5}}, \"type\": \"bar\"}], \"barpolar\": [{\"marker\": {\"line\": {\"color\": \"#E5ECF6\", \"width\": 0.5}}, \"type\": \"barpolar\"}], \"carpet\": [{\"aaxis\": {\"endlinecolor\": \"#2a3f5f\", \"gridcolor\": \"white\", \"linecolor\": \"white\", \"minorgridcolor\": \"white\", \"startlinecolor\": \"#2a3f5f\"}, \"baxis\": {\"endlinecolor\": \"#2a3f5f\", \"gridcolor\": \"white\", \"linecolor\": \"white\", \"minorgridcolor\": \"white\", \"startlinecolor\": \"#2a3f5f\"}, \"type\": \"carpet\"}], \"choropleth\": [{\"colorbar\": {\"outlinewidth\": 0, \"ticks\": \"\"}, \"type\": \"choropleth\"}], \"contour\": [{\"colorbar\": {\"outlinewidth\": 0, \"ticks\": \"\"}, \"colorscale\": [[0.0, \"#0d0887\"], [0.1111111111111111, \"#46039f\"], [0.2222222222222222, \"#7201a8\"], [0.3333333333333333, \"#9c179e\"], [0.4444444444444444, \"#bd3786\"], [0.5555555555555556, \"#d8576b\"], [0.6666666666666666, \"#ed7953\"], [0.7777777777777778, \"#fb9f3a\"], [0.8888888888888888, \"#fdca26\"], [1.0, \"#f0f921\"]], \"type\": \"contour\"}], \"contourcarpet\": [{\"colorbar\": {\"outlinewidth\": 0, \"ticks\": \"\"}, \"type\": \"contourcarpet\"}], \"heatmap\": [{\"colorbar\": {\"outlinewidth\": 0, \"ticks\": \"\"}, \"colorscale\": [[0.0, \"#0d0887\"], [0.1111111111111111, \"#46039f\"], [0.2222222222222222, \"#7201a8\"], [0.3333333333333333, \"#9c179e\"], [0.4444444444444444, \"#bd3786\"], [0.5555555555555556, \"#d8576b\"], [0.6666666666666666, \"#ed7953\"], [0.7777777777777778, \"#fb9f3a\"], [0.8888888888888888, \"#fdca26\"], [1.0, \"#f0f921\"]], \"type\": \"heatmap\"}], \"heatmapgl\": [{\"colorbar\": {\"outlinewidth\": 0, \"ticks\": \"\"}, \"colorscale\": [[0.0, \"#0d0887\"], [0.1111111111111111, \"#46039f\"], [0.2222222222222222, \"#7201a8\"], [0.3333333333333333, \"#9c179e\"], [0.4444444444444444, \"#bd3786\"], [0.5555555555555556, \"#d8576b\"], [0.6666666666666666, \"#ed7953\"], [0.7777777777777778, \"#fb9f3a\"], [0.8888888888888888, \"#fdca26\"], [1.0, \"#f0f921\"]], \"type\": \"heatmapgl\"}], \"histogram\": [{\"marker\": {\"colorbar\": {\"outlinewidth\": 0, \"ticks\": \"\"}}, \"type\": \"histogram\"}], \"histogram2d\": [{\"colorbar\": {\"outlinewidth\": 0, \"ticks\": \"\"}, \"colorscale\": [[0.0, \"#0d0887\"], [0.1111111111111111, \"#46039f\"], [0.2222222222222222, \"#7201a8\"], [0.3333333333333333, \"#9c179e\"], [0.4444444444444444, \"#bd3786\"], [0.5555555555555556, \"#d8576b\"], [0.6666666666666666, \"#ed7953\"], [0.7777777777777778, \"#fb9f3a\"], [0.8888888888888888, \"#fdca26\"], [1.0, \"#f0f921\"]], \"type\": \"histogram2d\"}], \"histogram2dcontour\": [{\"colorbar\": {\"outlinewidth\": 0, \"ticks\": \"\"}, \"colorscale\": [[0.0, \"#0d0887\"], [0.1111111111111111, \"#46039f\"], [0.2222222222222222, \"#7201a8\"], [0.3333333333333333, \"#9c179e\"], [0.4444444444444444, \"#bd3786\"], [0.5555555555555556, \"#d8576b\"], [0.6666666666666666, \"#ed7953\"], [0.7777777777777778, \"#fb9f3a\"], [0.8888888888888888, \"#fdca26\"], [1.0, \"#f0f921\"]], \"type\": \"histogram2dcontour\"}], \"mesh3d\": [{\"colorbar\": {\"outlinewidth\": 0, \"ticks\": \"\"}, \"type\": \"mesh3d\"}], \"parcoords\": [{\"line\": {\"colorbar\": {\"outlinewidth\": 0, \"ticks\": \"\"}}, \"type\": \"parcoords\"}], \"scatter\": [{\"marker\": {\"colorbar\": {\"outlinewidth\": 0, \"ticks\": \"\"}}, \"type\": \"scatter\"}], \"scatter3d\": [{\"line\": {\"colorbar\": {\"outlinewidth\": 0, \"ticks\": \"\"}}, \"marker\": {\"colorbar\": {\"outlinewidth\": 0, \"ticks\": \"\"}}, \"type\": \"scatter3d\"}], \"scattercarpet\": [{\"marker\": {\"colorbar\": {\"outlinewidth\": 0, \"ticks\": \"\"}}, \"type\": \"scattercarpet\"}], \"scattergeo\": [{\"marker\": {\"colorbar\": {\"outlinewidth\": 0, \"ticks\": \"\"}}, \"type\": \"scattergeo\"}], \"scattergl\": [{\"marker\": {\"colorbar\": {\"outlinewidth\": 0, \"ticks\": \"\"}}, \"type\": \"scattergl\"}], \"scattermapbox\": [{\"marker\": {\"colorbar\": {\"outlinewidth\": 0, \"ticks\": \"\"}}, \"type\": \"scattermapbox\"}], \"scatterpolar\": [{\"marker\": {\"colorbar\": {\"outlinewidth\": 0, \"ticks\": \"\"}}, \"type\": \"scatterpolar\"}], \"scatterpolargl\": [{\"marker\": {\"colorbar\": {\"outlinewidth\": 0, \"ticks\": \"\"}}, \"type\": \"scatterpolargl\"}], \"scatterternary\": [{\"marker\": {\"colorbar\": {\"outlinewidth\": 0, \"ticks\": \"\"}}, \"type\": \"scatterternary\"}], \"surface\": [{\"colorbar\": {\"outlinewidth\": 0, \"ticks\": \"\"}, \"colorscale\": [[0.0, \"#0d0887\"], [0.1111111111111111, \"#46039f\"], [0.2222222222222222, \"#7201a8\"], [0.3333333333333333, \"#9c179e\"], [0.4444444444444444, \"#bd3786\"], [0.5555555555555556, \"#d8576b\"], [0.6666666666666666, \"#ed7953\"], [0.7777777777777778, \"#fb9f3a\"], [0.8888888888888888, \"#fdca26\"], [1.0, \"#f0f921\"]], \"type\": \"surface\"}], \"table\": [{\"cells\": {\"fill\": {\"color\": \"#EBF0F8\"}, \"line\": {\"color\": \"white\"}}, \"header\": {\"fill\": {\"color\": \"#C8D4E3\"}, \"line\": {\"color\": \"white\"}}, \"type\": \"table\"}]}, \"layout\": {\"annotationdefaults\": {\"arrowcolor\": \"#2a3f5f\", \"arrowhead\": 0, \"arrowwidth\": 1}, \"colorscale\": {\"diverging\": [[0, \"#8e0152\"], [0.1, \"#c51b7d\"], [0.2, \"#de77ae\"], [0.3, \"#f1b6da\"], [0.4, \"#fde0ef\"], [0.5, \"#f7f7f7\"], [0.6, \"#e6f5d0\"], [0.7, \"#b8e186\"], [0.8, \"#7fbc41\"], [0.9, \"#4d9221\"], [1, \"#276419\"]], \"sequential\": [[0.0, \"#0d0887\"], [0.1111111111111111, \"#46039f\"], [0.2222222222222222, \"#7201a8\"], [0.3333333333333333, \"#9c179e\"], [0.4444444444444444, \"#bd3786\"], [0.5555555555555556, \"#d8576b\"], [0.6666666666666666, \"#ed7953\"], [0.7777777777777778, \"#fb9f3a\"], [0.8888888888888888, \"#fdca26\"], [1.0, \"#f0f921\"]], \"sequentialminus\": [[0.0, \"#0d0887\"], [0.1111111111111111, \"#46039f\"], [0.2222222222222222, \"#7201a8\"], [0.3333333333333333, \"#9c179e\"], [0.4444444444444444, \"#bd3786\"], [0.5555555555555556, \"#d8576b\"], [0.6666666666666666, \"#ed7953\"], [0.7777777777777778, \"#fb9f3a\"], [0.8888888888888888, \"#fdca26\"], [1.0, \"#f0f921\"]]}, \"colorway\": [\"#636efa\", \"#EF553B\", \"#00cc96\", \"#ab63fa\", \"#FFA15A\", \"#19d3f3\", \"#FF6692\", \"#B6E880\", \"#FF97FF\", \"#FECB52\"], \"font\": {\"color\": \"#2a3f5f\"}, \"geo\": {\"bgcolor\": \"white\", \"lakecolor\": \"white\", \"landcolor\": \"#E5ECF6\", \"showlakes\": true, \"showland\": true, \"subunitcolor\": \"white\"}, \"hoverlabel\": {\"align\": \"left\"}, \"hovermode\": \"closest\", \"mapbox\": {\"style\": \"light\"}, \"paper_bgcolor\": \"white\", \"plot_bgcolor\": \"#E5ECF6\", \"polar\": {\"angularaxis\": {\"gridcolor\": \"white\", \"linecolor\": \"white\", \"ticks\": \"\"}, \"bgcolor\": \"#E5ECF6\", \"radialaxis\": {\"gridcolor\": \"white\", \"linecolor\": \"white\", \"ticks\": \"\"}}, \"scene\": {\"xaxis\": {\"backgroundcolor\": \"#E5ECF6\", \"gridcolor\": \"white\", \"gridwidth\": 2, \"linecolor\": \"white\", \"showbackground\": true, \"ticks\": \"\", \"zerolinecolor\": \"white\"}, \"yaxis\": {\"backgroundcolor\": \"#E5ECF6\", \"gridcolor\": \"white\", \"gridwidth\": 2, \"linecolor\": \"white\", \"showbackground\": true, \"ticks\": \"\", \"zerolinecolor\": \"white\"}, \"zaxis\": {\"backgroundcolor\": \"#E5ECF6\", \"gridcolor\": \"white\", \"gridwidth\": 2, \"linecolor\": \"white\", \"showbackground\": true, \"ticks\": \"\", \"zerolinecolor\": \"white\"}}, \"shapedefaults\": {\"line\": {\"color\": \"#2a3f5f\"}}, \"ternary\": {\"aaxis\": {\"gridcolor\": \"white\", \"linecolor\": \"white\", \"ticks\": \"\"}, \"baxis\": {\"gridcolor\": \"white\", \"linecolor\": \"white\", \"ticks\": \"\"}, \"bgcolor\": \"#E5ECF6\", \"caxis\": {\"gridcolor\": \"white\", \"linecolor\": \"white\", \"ticks\": \"\"}}, \"title\": {\"x\": 0.05}, \"xaxis\": {\"automargin\": true, \"gridcolor\": \"white\", \"linecolor\": \"white\", \"ticks\": \"\", \"zerolinecolor\": \"white\", \"zerolinewidth\": 2}, \"yaxis\": {\"automargin\": true, \"gridcolor\": \"white\", \"linecolor\": \"white\", \"ticks\": \"\", \"zerolinecolor\": \"white\", \"zerolinewidth\": 2}}}, \"title\": {\"text\": \"Basic Sankey Diagram\"}},\n",
       "                        {\"responsive\": true}\n",
       "                    ).then(function(){\n",
       "                            \n",
       "var gd = document.getElementById('723fc0f5-81bf-4d10-a3cf-79b57b54846b');\n",
       "var x = new MutationObserver(function (mutations, observer) {{\n",
       "        var display = window.getComputedStyle(gd).display;\n",
       "        if (!display || display === 'none') {{\n",
       "            console.log([gd, 'removed!']);\n",
       "            Plotly.purge(gd);\n",
       "            observer.disconnect();\n",
       "        }}\n",
       "}});\n",
       "\n",
       "// Listen for the removal of the full notebook cells\n",
       "var notebookContainer = gd.closest('#notebook-container');\n",
       "if (notebookContainer) {{\n",
       "    x.observe(notebookContainer, {childList: true});\n",
       "}}\n",
       "\n",
       "// Listen for the clearing of the current output cell\n",
       "var outputEl = gd.closest('.output');\n",
       "if (outputEl) {{\n",
       "    x.observe(outputEl, {childList: true});\n",
       "}}\n",
       "\n",
       "                        })\n",
       "                };\n",
       "                });\n",
       "            </script>\n",
       "        </div>"
      ]
     },
     "metadata": {},
     "output_type": "display_data"
    }
   ],
   "source": [
    "import plotly.graph_objects as go\n",
    "\n",
    "fig = go.Figure(data=[go.Sankey(\n",
    "    node = dict(\n",
    "      pad = 15,\n",
    "      thickness = 20,\n",
    "      line = dict(color = \"black\", width = 0.5),\n",
    "      label = [\"A1\", \"A2\", \"B1\", \"B2\", \"C1\", \"C2\"],\n",
    "      color = \"blue\"\n",
    "    ),\n",
    "    link = dict(\n",
    "      source = [0, 1, 0, 2, 3, 3], # indices correspond to labels, eg A1, A2, A2, B1, ...\n",
    "      target = [2, 3, 3, 4, 4, 5],\n",
    "      value = [8, 4, 2, 8, 4, 2]\n",
    "  ))])\n",
    "\n",
    "fig.update_layout(title_text=\"Basic Sankey Diagram\", font_size=10)\n",
    "fig.show()\n"
   ]
  }
 ],
 "metadata": {
  "kernelspec": {
   "display_name": "Python 3",
   "language": "python",
   "name": "python3"
  },
  "language_info": {
   "codemirror_mode": {
    "name": "ipython",
    "version": 3
   },
   "file_extension": ".py",
   "mimetype": "text/x-python",
   "name": "python",
   "nbconvert_exporter": "python",
   "pygments_lexer": "ipython3",
   "version": "3.7.3"
  },
  "notify_time": "5",
  "toc": {
   "base_numbering": 1,
   "nav_menu": {},
   "number_sections": true,
   "sideBar": true,
   "skip_h1_title": false,
   "title_cell": "Table of Contents",
   "title_sidebar": "Contents",
   "toc_cell": false,
   "toc_position": {
    "height": "calc(100% - 180px)",
    "left": "10px",
    "top": "150px",
    "width": "287.6px"
   },
   "toc_section_display": true,
   "toc_window_display": true
  },
  "varInspector": {
   "cols": {
    "lenName": 16,
    "lenType": 16,
    "lenVar": 40
   },
   "kernels_config": {
    "python": {
     "delete_cmd_postfix": "",
     "delete_cmd_prefix": "del ",
     "library": "var_list.py",
     "varRefreshCmd": "print(var_dic_list())"
    },
    "r": {
     "delete_cmd_postfix": ") ",
     "delete_cmd_prefix": "rm(",
     "library": "var_list.r",
     "varRefreshCmd": "cat(var_dic_list()) "
    }
   },
   "types_to_exclude": [
    "module",
    "function",
    "builtin_function_or_method",
    "instance",
    "_Feature"
   ],
   "window_display": false
  }
 },
 "nbformat": 4,
 "nbformat_minor": 2
}
